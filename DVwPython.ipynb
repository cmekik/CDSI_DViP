{
 "cells": [
  {
   "cell_type": "markdown",
   "metadata": {
    "slideshow": {
     "slide_type": "-"
    }
   },
   "source": [
    "# Data Visualization in Python\n",
    "\n",
    "Can Şerif Mekik\n",
    "\n",
    "PhD Candidate <br/>\n",
    "Department of Cognitive Science <br/>\n",
    "Rensselaer Polytechnic Institute\n",
    "\n",
    "December 13, 2021\n",
    "\n",
    "<table align=\"left\">\n",
    "<tr>\n",
    "<td><img src=CDSI_Fac.of.Sc_logo.png alt=\"CDSI Logo\" width=\"300\"/></td>\n",
    "<td><img src=mcgill_ccr_approval_croppedforblock_0.png alt=\"CCR Approved Logo\" width=\"300\"/></td>\n",
    "</tr>\n",
    "</table>"
   ]
  },
  {
   "cell_type": "markdown",
   "metadata": {
    "slideshow": {
     "slide_type": "-"
    }
   },
   "source": [
    "## Introductory Remarks\n",
    "\n",
    "This workshop assumes minimal working knowledge of Python. \n",
    "\n",
    "We will learn the basics of using the `matplotlib` library for producing beautiful data visualizations.\n",
    "\n",
    "Matplotlib is the standard plotting package in Python. It is very flexible, capable of creating basic 2D plots, 3D plots, and even animations.\n",
    "\n",
    "Working knowledge of the Pandas package is an asset, although it is not required. \n",
    "\n",
    "We will use `pandas` to prepare our data for plotting.\n",
    "\n",
    "This workshop is heavily inspired by Ben Root's [Anatomy of Matplotlib](https://github.com/matplotlib/AnatomyOfMatplotlib/tree/master/)."
   ]
  },
  {
   "cell_type": "markdown",
   "metadata": {
    "slideshow": {
     "slide_type": "-"
    }
   },
   "source": [
    "### Useful Resources\n",
    "\n",
    "The [Matplotlib Cheatsheet](https://matplotlib.org/cheatsheets/cheatsheets.pdf) is an excellent two-page summary of essential `matplotlib` features.\n",
    "\n",
    "The [Official Matplotlib Docs](https://matplotlib.org/stable/index.html) are the single best resource for information short of the source code. It contains tutorials, reference documentation and more.\n",
    "\n",
    "The [Example Gallery](https://matplotlib.org/stable/gallery/index.html) is particularly helpful when you have something specific in mind."
   ]
  },
  {
   "cell_type": "markdown",
   "metadata": {
    "slideshow": {
     "slide_type": "-"
    }
   },
   "source": [
    "### Contents\n",
    "\n",
    "1. Setup\n",
    "2. Basic Concepts\n",
    "3. Essential Plotting Methods\n",
    "4. Controlling Figure Appearance\n",
    "5. More Advanced Plotting: Grouping, Multiple Subplots & Faceting  \n",
    "6. Conclusion"
   ]
  },
  {
   "cell_type": "markdown",
   "metadata": {
    "slideshow": {
     "slide_type": "-"
    }
   },
   "source": [
    "## Setup\n",
    "\n",
    "We will create and adjust various graphs using the matplotlib library.\n",
    "\n",
    "To follow the workshop on your own machine, you should have Anaconda already installed.\n",
    "\n",
    "https://www.anaconda.com/products/individual\n",
    "\n",
    "This will automatically include the necessary dependencies.\n",
    "\n",
    "Our data set is a subset of Semra Sevi's Canadian Federal Elections dataset.\n",
    "\n",
    "You can find a copies of the dataset and code at the following address.\n",
    "\n",
    "https://github.com/cmekik/CDSI_DViP"
   ]
  },
  {
   "cell_type": "markdown",
   "metadata": {
    "slideshow": {
     "slide_type": "-"
    }
   },
   "source": [
    "### Getting Ready to Code\n",
    "\n",
    "`Jupyter` is a python tool for rich interactive coding that ships with Anaconda.\n",
    "\n",
    "This presentation uses `Jupyter` notebook, in fact!\n",
    "\n",
    "To get set, create a new folder in which you will work and copy the materials into it.\n",
    "\n",
    "Then launch your machines console, navigate to your folder, activate your conda environment, and run the following.\n",
    "\n",
    "```jupyter notebook```\n",
    "\n",
    "This should launch Jupyter notebook in your browser. When it does, you can open the notebook."
   ]
  },
  {
   "cell_type": "markdown",
   "metadata": {
    "slideshow": {
     "slide_type": "-"
    }
   },
   "source": [
    "#### Installing and Importing pandas\n",
    "\n",
    "`pandas` comes pre-packaged in Anaconda.\n",
    "\n",
    "You can always install it using the following pip command: ```pip install pandas```\n",
    "\n",
    "If you have conda, but not pandas, you can also do: ```conda install pandas```"
   ]
  },
  {
   "cell_type": "code",
   "execution_count": null,
   "metadata": {
    "slideshow": {
     "slide_type": "-"
    }
   },
   "outputs": [],
   "source": [
    "import pandas as pd\n",
    "\n",
    "df = pd.read_pickle(\"cleaned.pkl\")\n",
    "\n",
    "# Inspect the variable metadata\n",
    "df.info()"
   ]
  },
  {
   "cell_type": "markdown",
   "metadata": {
    "slideshow": {
     "slide_type": "-"
    }
   },
   "source": [
    "#### Installing and Importing matplotlib\n",
    "\n",
    "`matplotlib` comes pre-packaged in Anaconda.\n",
    "\n",
    "You can always install it using the following pip command: ```pip install matplotlib```\n",
    "\n",
    "If you have conda, but not pandas, you can also do: ```conda install matplotib```"
   ]
  },
  {
   "cell_type": "markdown",
   "metadata": {
    "slideshow": {
     "slide_type": "-"
    }
   },
   "source": [
    "When used with jupyter notebooks, matplotlib exhibits some specialized behavior. \n",
    "\n",
    "To get it to behave more like it would in a script, we run the following code snippet."
   ]
  },
  {
   "cell_type": "code",
   "execution_count": null,
   "metadata": {
    "slideshow": {
     "slide_type": "-"
    }
   },
   "outputs": [],
   "source": [
    "import matplotlib as mpl\n",
    "mpl.use(\"nbagg\")"
   ]
  },
  {
   "cell_type": "markdown",
   "metadata": {
    "slideshow": {
     "slide_type": "-"
    }
   },
   "source": [
    "The standard way to start using matplotlib is to run the following snippet."
   ]
  },
  {
   "cell_type": "code",
   "execution_count": null,
   "metadata": {
    "slideshow": {
     "slide_type": "-"
    }
   },
   "outputs": [],
   "source": [
    "import matplotlib.pyplot as plt"
   ]
  },
  {
   "cell_type": "markdown",
   "metadata": {
    "slideshow": {
     "slide_type": "-"
    }
   },
   "source": [
    "## Basic Concepts\n",
    "\n",
    "Matplotlib figures are complex objects, so it is important to have a general understanding of their structure.\n",
    "\n",
    "We'll start with that."
   ]
  },
  {
   "cell_type": "markdown",
   "metadata": {
    "slideshow": {
     "slide_type": "-"
    }
   },
   "source": [
    "### Figure Creation vs. Display\n",
    "\n",
    "Before getting into theory, let's take a quick look at the basic mechanics of creating and displaying figures."
   ]
  },
  {
   "cell_type": "code",
   "execution_count": null,
   "metadata": {
    "slideshow": {
     "slide_type": "-"
    }
   },
   "outputs": [],
   "source": [
    "# Create some data\n",
    "X, Y = [i for i in range(20)], [i ** 2 for i in range(20)]\n",
    "\n",
    "plt.plot(X, Y) # Create a line plot of the data on 'current' figure\n",
    "plt.show() # Show the result"
   ]
  },
  {
   "cell_type": "markdown",
   "metadata": {
    "slideshow": {
     "slide_type": "-"
    }
   },
   "source": [
    "This quick example hides a lot of detail. \n",
    "\n",
    "It's not uncommon to write code like this when trying to quickly understand what's going on with a dataset.\n",
    "\n",
    "You should retain a few things from this example:\n",
    "- We didn't have to explicitly create or configure a new figure because matplotlib always tracks a 'current' figure (similar to matlab). This is very convenient, but is not always the best option.\n",
    "- To display or render a figure that we have created we **must** call `plt.show()` or something similar.\n",
    "- Matplotlib figures are interactive: you can zoom, pan, save, etc."
   ]
  },
  {
   "cell_type": "markdown",
   "metadata": {
    "slideshow": {
     "slide_type": "-"
    }
   },
   "source": [
    "### Anatomy of a Figure\n",
    "\n",
    "To get a sense for the different components of a matplotlib figure, take a look at the image below. \n",
    "\n",
    "<img src=anatomy_of_a_figure.png alt=\"CDSI Logo\" width=\"500\"/>\n",
    "\n",
    "This image is provided in the matplotlib docs, and its source code can be found [here](https://matplotlib.org/stable/gallery/showcase/anatomy.html)."
   ]
  },
  {
   "cell_type": "markdown",
   "metadata": {
    "slideshow": {
     "slide_type": "-"
    }
   },
   "source": [
    "Taking a step back, here are the main components of a figure:\n",
    "- The `Figure` object, which contains all figure components\n",
    "- `Axes`/`Subplots` which house the individual axes of each subplot \n",
    "- `XAxis`, `YAxis` in each subplot, which house data about individual axes (tick marks etc.)\n",
    "- Other stuff"
   ]
  },
  {
   "cell_type": "markdown",
   "metadata": {
    "slideshow": {
     "slide_type": "-"
    }
   },
   "source": [
    "### Explicitly Initializing and Closing Figures.\n",
    "\n",
    "Instead of using plotting functions from pyplot, like `plt.plot()`, it is better to create and work with `Axes` objects.\n",
    "\n",
    "This style is more explicit and, ultimately, more flexible."
   ]
  },
  {
   "cell_type": "code",
   "execution_count": null,
   "metadata": {},
   "outputs": [],
   "source": [
    "# Create some data\n",
    "X, Y = [i for i in range(20)], [i ** 2 for i in range(20)]\n",
    "\n",
    "fig, ax = plt.subplots() # Create a new figure with 1 subplot\n",
    "# This function returns a tuple. The first element is the new figure.\n",
    "# The second element is an `Axes` object if only one subplot is requested,\n",
    "# Otherwise it is an array of `Axes` objects.\n",
    "\n",
    "ax.set( # Add some labels\n",
    "    title=\"Plot of $y = x^2$\",\n",
    "    xlabel=\"$x$\",\n",
    "    ylabel=\"$y$\")\n",
    "\n",
    "ax.plot(X, Y) # Create a line plot of the data on 'current' figure\n",
    "\n",
    "fig.show() # Show the result"
   ]
  },
  {
   "cell_type": "markdown",
   "metadata": {},
   "source": [
    "You can save the figure we just created as follows."
   ]
  },
  {
   "cell_type": "code",
   "execution_count": null,
   "metadata": {},
   "outputs": [],
   "source": [
    "fig.savefig(\"example.png\")"
   ]
  },
  {
   "cell_type": "markdown",
   "metadata": {
    "slideshow": {
     "slide_type": "-"
    }
   },
   "source": [
    "If you create and save a lot of figures programmatically, you might have to explicitly close figure to save memory, as below.\n",
    "\n",
    "This is an unfortunate quirk of matplotlib. There are other workarounds that may be more or less suitable depending on your situation, but they are a bit more advanced and not covered in further detail here.\n",
    "\n",
    "Notice that when you run the `plt.close()` on `fig`, it loses interactivity."
   ]
  },
  {
   "cell_type": "code",
   "execution_count": null,
   "metadata": {},
   "outputs": [],
   "source": [
    "plt.close(fig)"
   ]
  },
  {
   "cell_type": "markdown",
   "metadata": {},
   "source": [
    "## Essential Plotting Methods\n",
    "\n",
    "Let's survey how to create some common plot types. \n",
    "\n",
    "We'll focus on typical statistical plots. See the [plot types](https://matplotlib.org/stable/plot_types/index.html) page for a more complete listing (e.g., quivers). "
   ]
  },
  {
   "cell_type": "markdown",
   "metadata": {},
   "source": [
    "### `ax.hist()`\n",
    "\n",
    "[Reference Documentation]()\n",
    "\n",
    "Plots a histogram.\n",
    "\n",
    "Great for getting a sense of the distribution of a continuous variable."
   ]
  },
  {
   "cell_type": "code",
   "execution_count": null,
   "metadata": {
    "scrolled": false
   },
   "outputs": [],
   "source": [
    "fig, ax = plt.subplots()\n",
    "ax.hist(df.percent_votes.dropna(), bins=\"auto\")\n",
    "plt.show()"
   ]
  },
  {
   "cell_type": "markdown",
   "metadata": {},
   "source": [
    "#### Exercise\n",
    "\n",
    "Create a histogram of the margins of victory.\n",
    "\n",
    "Try different integer values for the `bins` parameter. What do you observe?"
   ]
  },
  {
   "cell_type": "code",
   "execution_count": null,
   "metadata": {},
   "outputs": [],
   "source": []
  },
  {
   "cell_type": "markdown",
   "metadata": {},
   "source": [
    "### `ax.boxplot()`\n",
    "\n",
    "[Reference Documentation](https://matplotlib.org/stable/api/_as_gen/matplotlib.axes.Axes.boxplot.html?highlight=boxplot#matplotlib.axes.Axes.boxplot)\n",
    "\n",
    "Creates boxplots.\n",
    "\n",
    "Classic plot for succinctly reporting non-parametric descriptives about a variable.\n",
    "\n",
    "Plots, for each variable, the median and interquartile range. \n",
    "\n",
    "Marks outliers that are more than 1.5xIQR less than Q1 or more than Q3."
   ]
  },
  {
   "cell_type": "code",
   "execution_count": null,
   "metadata": {
    "scrolled": false
   },
   "outputs": [],
   "source": [
    "# If we wanted, we could produce a for only one variable.\n",
    "# This code demonstrates how to put multiple boxplots on the same axes.\n",
    "\n",
    "data = (df[[\"percent_votes\", \"margin\"]]\n",
    "    .rename(columns={\"percent_votes\": \"Vote Share (%)\", \"margin\":\"Margin\"}))\n",
    "\n",
    "fig, ax = plt.subplots(1)\n",
    "\n",
    "ax.set(\n",
    "    title=\"Boxplots for Vote Share and Margin\",\n",
    "    ylabel=\"Percentage\")\n",
    "\n",
    "ax.boxplot(\n",
    "    data.dropna(), \n",
    "    labels=data.columns)\n",
    "\n",
    "fig.show()"
   ]
  },
  {
   "cell_type": "markdown",
   "metadata": {},
   "source": [
    "#### Exercise\n",
    "\n",
    "Create a boxplot for the number of votes."
   ]
  },
  {
   "cell_type": "code",
   "execution_count": null,
   "metadata": {},
   "outputs": [],
   "source": []
  },
  {
   "cell_type": "markdown",
   "metadata": {},
   "source": [
    "### `ax.violinplot()`\n",
    "\n",
    "[Reference Documentation](https://matplotlib.org/stable/api/_as_gen/matplotlib.axes.Axes.violinplot.html?highlight=violinplot#matplotlib.axes.Axes.violinplot)\n",
    "\n",
    "Violin plots combine the information contained in histograms and boxplots in one neat plot."
   ]
  },
  {
   "cell_type": "code",
   "execution_count": null,
   "metadata": {},
   "outputs": [],
   "source": [
    "# If we wanted, we could produce a violin plot for only one variable.\n",
    "# This code demonstrates how to put multiple boxplots on the same axes.\n",
    "\n",
    "data = (\n",
    "    df[[\"percent_votes\", \"margin\"]]\n",
    "    .rename(columns={\"percent_votes\": \"Vote Share (%)\", \"margin\":\"Margin\"}))\n",
    "\n",
    "fig, ax = plt.subplots(1)\n",
    "\n",
    "ax.set(\n",
    "    title=\"Violin plots for Vote Share and Margin\",\n",
    "    ylabel=\"Percentage\",\n",
    "    xticks=[1, 2],\n",
    "    xticklabels=data.columns)\n",
    "\n",
    "ax.violinplot(\n",
    "    data.dropna(),\n",
    "    showmedians=True,\n",
    "    quantiles=[[0.25, 0.75], [0.25, 0.75]])\n",
    "\n",
    "fig.show()"
   ]
  },
  {
   "cell_type": "markdown",
   "metadata": {},
   "source": [
    "#### Exercise\n",
    "\n",
    "Create a violin plot for the number of votes. Include marks for the medians as well as the Q33 and Q66.\n",
    "\n",
    "Hint: Make sure the data have dtype float."
   ]
  },
  {
   "cell_type": "code",
   "execution_count": null,
   "metadata": {},
   "outputs": [],
   "source": []
  },
  {
   "cell_type": "markdown",
   "metadata": {},
   "source": [
    "### `ax.bar()`\n",
    "\n",
    "[Reference Documentation](https://matplotlib.org/stable/api/_as_gen/matplotlib.pyplot.bar.html)\n",
    "\n",
    "Bar charts, optionally with error bars.\n",
    "\n",
    "Ideal for plotting statistics for data grouped by categories.\n",
    "\n",
    "Default is vertical, but can construct horizontal bars using [`ax.barh()`](https://matplotlib.org/stable/api/_as_gen/matplotlib.pyplot.barh.html)."
   ]
  },
  {
   "cell_type": "code",
   "execution_count": null,
   "metadata": {},
   "outputs": [],
   "source": [
    "gs = df.groupby(\"gender\").percent_votes\n",
    "pct_votes_x_gender = (\n",
    "    pd.concat(\n",
    "        [gs.mean().rename(\"mean\"), gs.sem().rename(\"sem\")], \n",
    "        axis=1)\n",
    "    .reset_index())\n",
    "\n",
    "print(pct_votes_x_gender)\n",
    "\n",
    "fig, ax = plt.subplots(1)\n",
    "\n",
    "ax.set(\n",
    "    title=\"Mean Vote Share by Gender Since 1990\",\n",
    "    xlabel=\"Gender\",\n",
    "    ylabel=\"Vote Share (%)\")\n",
    "\n",
    "ax.bar(\n",
    "    x=\"gender\", \n",
    "    height=\"mean\", \n",
    "    yerr=\"sem\", \n",
    "    data=pct_votes_x_gender, \n",
    "    linewidth=1,\n",
    "    capsize=3,\n",
    "    color=\"0.7\",\n",
    "    edgecolor=\"k\"\n",
    "    )\n",
    "\n",
    "fig.show()"
   ]
  },
  {
   "cell_type": "markdown",
   "metadata": {},
   "source": [
    "#### Exercise\n",
    "\n",
    "Create a bar graph showing the mean vote share by incumbency status for the 2021 election with error bars."
   ]
  },
  {
   "cell_type": "code",
   "execution_count": null,
   "metadata": {
    "scrolled": false
   },
   "outputs": [],
   "source": [
    "# Strictly speaking, this variable is not 100% accurate. Can you figure out why?\n",
    "df[\"incumbency\"] = (df\n",
    "     .sort_values([\"id\", \"year\"])\n",
    "     .groupby(\"id\")\n",
    "     .elected\n",
    "     .shift()\n",
    "     .cat.rename_categories({\"Elected\": \"Incumbent\", \"Not elected\": \"Nonincumbent\"}))\n"
   ]
  },
  {
   "cell_type": "markdown",
   "metadata": {},
   "source": [
    "### `ax.errorbar()`\n",
    "\n",
    "Another graph for presenting estimates by category is [`ax.errorbar()`](https://matplotlib.org/stable/api/_as_gen/matplotlib.axes.Axes.errorbar.html).\n",
    "\n",
    "Here is the same information as in the initial bar plot, using errorbar instead."
   ]
  },
  {
   "cell_type": "code",
   "execution_count": null,
   "metadata": {},
   "outputs": [],
   "source": [
    "gs = df.groupby(\"gender\").percent_votes\n",
    "pct_votes_x_gender = (\n",
    "    pd.concat(\n",
    "        [gs.mean().rename(\"mean\"), gs.sem().rename(\"sem\")], \n",
    "        axis=1)\n",
    "    .reset_index())\n",
    "\n",
    "print(pct_votes_x_gender)\n",
    "\n",
    "fig, ax = plt.subplots(1)\n",
    "\n",
    "ax.set(\n",
    "    xlim=[-.5, 2.5],\n",
    "    title=\"Mean Vote Share by Gender Since 1990\",\n",
    "    xlabel=\"Gender\",\n",
    "    ylabel=\"Vote Share (%)\")\n",
    "\n",
    "ax.errorbar(\n",
    "    x=\"gender\", \n",
    "    y=\"mean\", \n",
    "    yerr=\"sem\", \n",
    "    data=pct_votes_x_gender, \n",
    "    fmt=\"o\",\n",
    "    linewidth=1,\n",
    "    capsize=4,\n",
    "    color=\"k\",\n",
    "    markersize=5\n",
    "    )\n",
    "\n",
    "fig.show()"
   ]
  },
  {
   "cell_type": "markdown",
   "metadata": {},
   "source": [
    "### `ax.plot()`\n",
    "\n",
    "[Reference Documentation](https://matplotlib.org/stable/api/_as_gen/matplotlib.pyplot.plot.html)\n",
    "\n",
    "Plot a function.\n",
    "\n",
    "Ideal for situations where $y$ and $x$ are ordered or continuous variables and $y$ is a function of $x$ (i.e., there is exactly one $y$ value for each $x$ value).\n",
    "\n",
    "Can plot markers, lines or both."
   ]
  },
  {
   "cell_type": "code",
   "execution_count": null,
   "metadata": {},
   "outputs": [],
   "source": [
    "# calculate percentage of women candidates and MPs in each election\n",
    "\n",
    "candidates = pd.DataFrame({\n",
    "              \"num\": df.groupby(\"year\").id.nunique(),\n",
    "          \"num_MPs\": df[df.elected == \"Elected\"].copy().groupby(\"year\").id.nunique(),\n",
    "        \"num_women\": df[df.gender == \"F\"].copy().groupby(\"year\").id.nunique(),\n",
    "    \"num_women_MPs\": df[(df.gender == \"F\") & (df.elected == \"Elected\")].copy().groupby(\"year\").id.nunique(),\n",
    "})\n",
    "\n",
    "candidates[\"pct_w_cand\"] = 100 * candidates.num_women / candidates.num\n",
    "candidates[\"pct_w_MPs\"] = 100 * candidates.num_women_MPs / candidates.num_MPs\n",
    "candidates = candidates.reset_index()\n",
    "\n",
    "print(candidates)\n",
    "\n",
    "# Create the plot\n",
    "\n",
    "# Note that we can put multiple plots on the same Axes object.\n",
    "# Also note that we can pass the variable name with pandas data object.\n",
    "# Alternatively, we could directly pass the data.\n",
    "\n",
    "fig, ax = plt.subplots(1)\n",
    "\n",
    "ax.set(\n",
    "    title=\"Canadian Women Politicians after 1990\",\n",
    "    xlabel=\"Year\",\n",
    "    ylabel=\"Percent\")\n",
    "\n",
    "ax.plot(\"year\", \"pct_w_cand\", \"C6--\", data=candidates, label=\"Candidates\")\n",
    "ax.plot(\"year\", \"pct_w_MPs\", \"C4-\", data=candidates, label=\"MPs\")\n",
    "\n",
    "ax.legend()\n",
    "\n",
    "fig.show()"
   ]
  },
  {
   "cell_type": "markdown",
   "metadata": {},
   "source": [
    "#### Exercise\n",
    "\n",
    "Plot age over time."
   ]
  },
  {
   "cell_type": "code",
   "execution_count": null,
   "metadata": {},
   "outputs": [],
   "source": [
    "data = df.copy()\n",
    "data[\"age\"] = data.age.astype(\"float\")\n"
   ]
  },
  {
   "cell_type": "markdown",
   "metadata": {},
   "source": [
    "### `ax.fill_between()`\n",
    "\n",
    "[Reference Documentation](https://matplotlib.org/stable/api/_as_gen/matplotlib.pyplot.fill_between.html)\n",
    "\n",
    "Fills the area between two sets of $y$ values (second $y$ value defaults to 0). \n",
    "\n",
    "Good for presenting uncertainties in continuous estimates."
   ]
  },
  {
   "cell_type": "code",
   "execution_count": null,
   "metadata": {},
   "outputs": [],
   "source": [
    "gs = df.groupby(\"year\").percent_votes\n",
    "data = (\n",
    "    pd.concat(\n",
    "        [gs.mean().rename(\"mean\"), gs.sem().rename(\"sem\")],\n",
    "        axis=1)\n",
    "    .reset_index())\n",
    "\n",
    "data[\"ul\"] = data[\"mean\"] + 1.96 * data[\"sem\"]\n",
    "data[\"ll\"] = data[\"mean\"] - 1.96 * data[\"sem\"]\n",
    "\n",
    "print(data)\n",
    "\n",
    "fig, ax = plt.subplots(1)\n",
    "\n",
    "ax.set(\n",
    "    title=\"Average Vote Share Per Candidate Since 1990\",\n",
    "    xlabel=\"Year\",\n",
    "    ylabel=\"Vote Share (%)\")\n",
    "\n",
    "ax.plot(\"year\", \"mean\", \"-\", data=data)\n",
    "ax.fill_between(\n",
    "    x=\"year\", \n",
    "    y1=\"ul\", \n",
    "    y2=\"ll\", \n",
    "    data=data,\n",
    "    alpha=.1)\n",
    "\n",
    "fig.show()"
   ]
  },
  {
   "cell_type": "markdown",
   "metadata": {},
   "source": [
    "#### Exercise\n",
    "\n",
    "Produce a similar graph for the margin of victory."
   ]
  },
  {
   "cell_type": "code",
   "execution_count": null,
   "metadata": {},
   "outputs": [],
   "source": []
  },
  {
   "cell_type": "markdown",
   "metadata": {},
   "source": [
    "### `ax.scatter()`\n",
    "\n",
    "[Reference Documentation](https://matplotlib.org/stable/api/_as_gen/matplotlib.pyplot.scatter.html)\n",
    "\n",
    "Creates a scatter plot.\n",
    "\n",
    "Ideal when your data may be viewed as points in a two-dimensional space.\n",
    "\n",
    "You can map values to marker colors and sizes as well, allowing you to represent higher dimensional data."
   ]
  },
  {
   "cell_type": "code",
   "execution_count": null,
   "metadata": {},
   "outputs": [],
   "source": [
    "data = df.sort_values([\"id\", \"year\"])\n",
    "data[\"percent_votes_lag\"] = data.groupby(\"id\").percent_votes.shift()\n",
    "data\n",
    "\n",
    "fig, ax = plt.subplots(1)\n",
    "\n",
    "ax.set(\n",
    "    title=\"Relation Between Previous and Current Vote Share\",\n",
    "    xlabel=\"Previous Vote Share (%)\",\n",
    "    ylabel=\"Current Vote Share (%)\")\n",
    "\n",
    "ax.scatter(\n",
    "    x=\"percent_votes_lag\", \n",
    "    y=\"percent_votes\",\n",
    "    s=2,\n",
    "    alpha=.3,\n",
    "    color=\"gray\",\n",
    "    data=data[[\"percent_votes_lag\", \"percent_votes\"]].dropna())\n",
    "\n",
    "plt.show()"
   ]
  },
  {
   "cell_type": "markdown",
   "metadata": {},
   "source": [
    "Let's try mapping a variable to dot color."
   ]
  },
  {
   "cell_type": "code",
   "execution_count": null,
   "metadata": {},
   "outputs": [],
   "source": [
    "# Calculate the number of votes cast in each riding\n",
    "data = df[df.year == 2021].copy()\n",
    "data[\"num_votes\"] = data.groupby([\"year\", \"province\", \"riding\"]).votes.transform(sum)\n",
    "\n",
    "\n",
    "# Plot the margin against the number of votes in riding and number of votes received.\n",
    "fig, ax = plt.subplots(1)\n",
    "\n",
    "ax.set(\n",
    "    title=\"Margins by Number of Voters and Votes Received\",\n",
    "    xlabel=\"Number of Voters\",\n",
    "    ylabel=\"Votes Received\")\n",
    "ax.tick_params(axis=\"x\", labelrotation = 45)\n",
    "\n",
    "sc = ax.scatter(\n",
    "    x=\"num_votes\", \n",
    "    y=\"votes\", \n",
    "    s=3, \n",
    "    c=\"margin\", \n",
    "    data=data,\n",
    "    cmap=\"coolwarm\",\n",
    "    vmin=-100,\n",
    "    vmax=+100)\n",
    "\n",
    "fig.colorbar(sc)\n",
    "\n",
    "plt.show()"
   ]
  },
  {
   "cell_type": "markdown",
   "metadata": {},
   "source": [
    "#### Exercise\n",
    "\n",
    "Create a graph similar to the one above, but mapping `percent_votes` to point size instead df mapping `margin` to point color. \n",
    "\n",
    "Can you adjust the point size so that it looks nice?"
   ]
  },
  {
   "cell_type": "code",
   "execution_count": null,
   "metadata": {},
   "outputs": [],
   "source": [
    "# Calculate the number of votes cast in each riding\n",
    "data = df[df.year == 2021].copy()\n",
    "data[\"num_votes\"] = data.groupby([\"year\", \"province\", \"riding\"]).votes.transform(sum)\n"
   ]
  },
  {
   "cell_type": "markdown",
   "metadata": {},
   "source": [
    "## Controlling Plot Appearance\n",
    "\n",
    "We've already seen how to control several aspects of plot appearance.\n",
    "\n",
    "Let's go into some more detail.\n",
    "\n",
    "Parts of this section are taken directly from Ben Root's  [Anatomy of Matplotlib](https://github.com/matplotlib/AnatomyOfMatplotlib/tree/master/)."
   ]
  },
  {
   "cell_type": "markdown",
   "metadata": {},
   "source": [
    "### `ax.set(...)` vs. `ax.set_<property>(...)`\n",
    "\n",
    "So far we have used the `ax.set(...)` command to control many aspects of plot appearance.\n",
    "\n",
    "This method is great if you quickly want to make adjustments. \n",
    "\n",
    "So far we have adjusted titles, labels, and ticks. But you can do more with `ax.set()`, like adjusting plotting limits.\n",
    "\n",
    "See [the documentation](https://matplotlib.org/stable/api/_as_gen/matplotlib.axes.Axes.set.html?highlight=set#matplotlib.axes.Axes.set) for a full list of options."
   ]
  },
  {
   "cell_type": "markdown",
   "metadata": {},
   "source": [
    "`ax.set()` can be limiting if you want to control details.\n",
    "\n",
    "For instance suppose we want to control the size and font of the title of a graph.\n",
    "\n",
    "In this situation, we can't use `ax.set()`, instead we need to use `ax.set_title(...)`."
   ]
  },
  {
   "cell_type": "code",
   "execution_count": null,
   "metadata": {},
   "outputs": [],
   "source": [
    "fig, ax = plt.subplots()\n",
    "ax.set_title(\"My Graph\", font=\"Times New Roman\", size=\"50\")\n",
    "fig.show()"
   ]
  },
  {
   "cell_type": "markdown",
   "metadata": {},
   "source": [
    "### `fig.set()`\n",
    "\n",
    "[Reference Documentation](https://matplotlib.org/stable/api/figure_api.html#matplotlib.figure.Figure.set)\n",
    "\n",
    "You can set some top-level figure parameters using `fig.set()`.\n",
    "\n",
    "You mainly use this method to adjust the size, aspect ratio, and resolution of a figure."
   ]
  },
  {
   "cell_type": "markdown",
   "metadata": {},
   "source": [
    "### Robust Customization\n",
    "\n",
    "[RcParams and Style Customization Tutorial](https://matplotlib.org/stable/tutorials/introductory/customizing.html)\n",
    "\n",
    "You can imagine that styling each figure individually can get old. Luckily there are a few solutions for this.\n",
    "\n",
    "First, it is possible to adjust all defaults provided by matplotlib by playing with the `rcParams` ('rc' for 'runtime configuration').\n",
    "\n",
    "Better yet, matplotlib gives you the option to choose styles, which will automatically update your graphs to have a consistent look and feel. The simplest way to do this is to use `plt.style.use(...)`. E.g: `plt.style.use(\"ggplot\")`.\n",
    "\n",
    "You can also create your own styles."
   ]
  },
  {
   "cell_type": "code",
   "execution_count": null,
   "metadata": {},
   "outputs": [],
   "source": [
    "# Here is how you list available styles\n",
    "\n",
    "print(plt.style.available)"
   ]
  },
  {
   "cell_type": "markdown",
   "metadata": {},
   "source": [
    "### Naming Colors\n",
    "[Reference Documentation](http://matplotlib.org/api/colors_api.html#module-matplotlib.colors) \n",
    "\n",
    "There are several ways to name individual colors.\n",
    "\n",
    "This comes in handy when manually setting colors for lines, markers, etc. or when configuring defaults/styles. "
   ]
  },
  {
   "cell_type": "markdown",
   "metadata": {},
   "source": [
    "#### Naming Colors by a Single Letter\n",
    "The simplest way is to use a single letter to select among some basic colors.\n",
    "\n",
    "- b: blue\n",
    "- g: green\n",
    "- r: red\n",
    "- c: cyan\n",
    "- m: magenta\n",
    "- y: yellow\n",
    "- k: black\n",
    "- w: white"
   ]
  },
  {
   "cell_type": "markdown",
   "metadata": {},
   "source": [
    "#### Popular Naming Schemes\n",
    "\n",
    "You can also use the following color naming schemes:\n",
    "- HTML/CSS HEX codes, e.g.: `\"#0000FF\"`\n",
    "- Standard HTML/CSS color names (140), e.g.: `\"midnightblue\"`, `\"olive\"`, etc. [(full list)](https://www.w3schools.com/Colors/colors_names.asp) of the 140 color names. \n",
    "- About 1000 color names from the xkcd color survey, e.g.: `\"xkcd:windowsblue\"`, `\"xkcd:firenginered\"` [(full list)](https://xkcd.com/color/rgb/)\n",
    "- Colors from the Tableau T10 pallette (also default mpl color cycle): `'tab:blue'`, `'tab:orange'` [(blog post)](https://www.tableau.com/about/blog/2016/7/colors-upgrade-tableau-10-56782)"
   ]
  },
  {
   "cell_type": "markdown",
   "metadata": {},
   "source": [
    "#### More Color Naming Schemes\n",
    "\n",
    "- Grayscale values as float strings between `\"0.0\"` (black) and `\"1.0\"` (white).\n",
    "- Cycle reference using `\"C0\"`-`\"C9\"` to reference one of the first 10 colors in the current color cycle.\n",
    "- RGB(A) tuples: Tuples whose values indicate intensity of r, g, b components plus transparency. Note: If transparency is given in an RGBA tuple and a separate alpha argument is set, the alpha argument will take precedence."
   ]
  },
  {
   "cell_type": "markdown",
   "metadata": {},
   "source": [
    "### Colormaps\n",
    "\n",
    "[Reference Documentation](https://matplotlib.org/stable/tutorials/colors/colormaps.html?highlight=colormap)\n",
    "\n",
    "Colormaps map ordered or continuous variables to color values.\n",
    "\n",
    "We played with colormaps when looking at scatter plots. But they also come in handy when, e.g., plotting images.\n",
    "\n",
    "There are several types: Sequential, Diverging, Qualitative, etc.\n",
    "\n",
    "Matplotlib gives you many colormaps to choose from, but you also can create your own color maps if you absolutely want to. "
   ]
  },
  {
   "cell_type": "markdown",
   "metadata": {},
   "source": [
    "### Markers\n",
    "\n",
    "[Reference Documentation](http://matplotlib.org/api/markers_api.html)\n",
    "\n",
    "Markers are the symbols used to mark individual data points. \n",
    "\n",
    "We adjusted them when looking at `ax.plot()`.\n",
    "\n",
    "Here is a list of marker names.\n",
    "\n",
    "marker     |  description  | marker    |  description    | marker   |  description  | marker    |  description  \n",
    ":----------|:--------------|:----------|:----------------|:---------|:--------------|:----------|:--------------\n",
    "\".\"        |  point        | \"+\"       |  plus           | \",\"      |  pixel        | \"x\"       |  cross\n",
    "\"o\"        |  circle       | \"D\"       |  diamond        | \"d\"      |  thin_diamond |           |\n",
    "\"8\"        |  octagon      | \"s\"       |  square         | \"p\"      |  pentagon     | \"\\*\"      |  star\n",
    "\"&#124;\"   |  vertical line| \"\\_\"      | horizontal line |  \"h\"     |  hexagon1     | \"H\"       |  hexagon2\n",
    "0          |  tickleft     | 4         |  caretleft      | \"<\"      | triangle_left | \"3\"       |  tri_left\n",
    "1          |  tickright    | 5         |  caretright     | \">\"      | triangle_right| \"4\"       |  tri_right\n",
    "2          |  tickup       | 6         |  caretup        | \"^\"      | triangle_up   | \"2\"       |  tri_up\n",
    "3          |  tickdown     | 7         |  caretdown      | \"v\"      | triangle_down | \"1\"       |  tri_down\n",
    "\"None\"     |  nothing      | `None`    |  default        | \" \"      |  nothing      | \"\"        |  nothing"
   ]
  },
  {
   "cell_type": "markdown",
   "metadata": {},
   "source": [
    "### Linestyles\n",
    "\n",
    "[Reference Documentation](https://matplotlib.org/stable/api/_as_gen/matplotlib.lines.Line2D.html#matplotlib.lines.Line2D)\n",
    "\n",
    "Line styles control how lines are drawn.\n",
    "\n",
    "Below is a list of linestyle names. You can also customize your own line styles.\n",
    "\n",
    "linestyle          | description\n",
    "-------------------|------------------------------\n",
    "'-'                | solid\n",
    "'--'               | dashed\n",
    "'-.'               | dashdot\n",
    "':'                | dotted\n",
    "'None'             | draw nothing\n",
    "' '                | draw nothing\n",
    "''                 | draw nothing"
   ]
  },
  {
   "cell_type": "markdown",
   "metadata": {},
   "source": [
    "### Ticks, Tick Lines, Tick Labels, Tickers, and Spines\n",
    "\n",
    "* A Tick is the *location* of a Tick Label.\n",
    "* A Tick Line is the line that denotes the location of the tick.\n",
    "* A Tick Label is the text that is displayed at that tick.\n",
    "* A [`Ticker`](http://matplotlib.org/api/ticker_api.html#module-matplotlib.ticker) automatically determines the ticks for an Axis and formats the tick labels.\n",
    "* Spines are the axis lines for a plot. \n",
    "\n",
    "[`tick_params()`](https://matplotlib.org/api/axes_api.html#ticks-and-tick-labels) is often used to help configure your tickers.\n",
    "\n",
    "\n",
    "To adjust spines, use [`set_position()`](http://matplotlib.org/api/spines_api.html#matplotlib.spines.Spine.set_position). "
   ]
  },
  {
   "cell_type": "code",
   "execution_count": null,
   "metadata": {},
   "outputs": [],
   "source": [
    "fig, ax = plt.subplots(1)\n",
    "\n",
    "ax.set(title=\"Plot of $y = x^2$\")\n",
    "\n",
    "ax.plot([i for i in range(-9, 10)], [i ** 2 for i in range(-9, 10)])\n",
    "\n",
    "ax.spines['top'].set_color('none')\n",
    "ax.spines['right'].set_color('none')\n",
    "\n",
    "# move bottom spine up to y=0 position:\n",
    "ax.tick_params(axis='x', labelbottom=True)\n",
    "ax.spines['bottom'].set_position(('data',0))\n",
    "\n",
    "# move left spine to the right to position x == 0:\n",
    "ax.tick_params(axis='x', labelleft=True)\n",
    "ax.spines['left'].set_position(('data',0))\n",
    "\n",
    "fig.show()"
   ]
  },
  {
   "cell_type": "markdown",
   "metadata": {},
   "source": [
    "## More Advanced Plotting: Grouping, Multiple Subplots, Shared Axes, Faceting\n",
    "\n",
    "Finally, we can preview some more advanced plotting techniques.\n",
    "\n",
    "These techniques serve to organize information and combat overplotting.\n"
   ]
  },
  {
   "cell_type": "markdown",
   "metadata": {},
   "source": [
    "### Grouping\n",
    "\n",
    "Grouping is one technique used to facilitate comparing data from different groups.\n",
    "\n",
    "We saw an example of grouping when looking at `ax.plot()`.\n",
    "\n",
    "To plot data by group, we simply plot each group to the same axis.\n",
    "\n",
    "Here is a scatterplot example."
   ]
  },
  {
   "cell_type": "code",
   "execution_count": null,
   "metadata": {},
   "outputs": [],
   "source": [
    "data = df.sort_values([\"id\", \"year\"])\n",
    "data[\"percent_votes_lag\"] = data.groupby(\"id\").percent_votes.shift()\n",
    "\n",
    "data = data[[\"elected\", \"percent_votes_lag\", \"percent_votes\"]].dropna()\n",
    "print(data)\n",
    "\n",
    "fig, ax = plt.subplots(1)\n",
    "\n",
    "ax.set(\n",
    "    title=\"Relation Between Previous and Current Vote Share\",\n",
    "    xlabel=\"Previous Vote Share (%)\",\n",
    "    ylabel=\"Current Vote Share (%)\")\n",
    "\n",
    "for name, _data in data.groupby(\"elected\"):\n",
    "    ax.scatter(\n",
    "        x=\"percent_votes_lag\", \n",
    "        y=\"percent_votes\",\n",
    "        s=2,\n",
    "        alpha=.3,\n",
    "        data=_data,\n",
    "        label=name)\n",
    "\n",
    "ax.legend()\n",
    "\n",
    "fig.show()"
   ]
  },
  {
   "cell_type": "markdown",
   "metadata": {},
   "source": [
    "#### Exercise\n",
    "\n",
    "Can you group the data above by gender?\n",
    "\n",
    "What do you think about the resulting graph?"
   ]
  },
  {
   "cell_type": "code",
   "execution_count": null,
   "metadata": {},
   "outputs": [],
   "source": [
    "data = df.sort_values([\"id\", \"year\"])\n",
    "data[\"percent_votes_lag\"] = data.groupby(\"id\").percent_votes.shift()\n"
   ]
  },
  {
   "cell_type": "markdown",
   "metadata": {},
   "source": [
    "#### Grouped Bar Chart\n",
    "\n",
    "In experimental settings, people like to show bar charts grouped by conditions. \n",
    "\n",
    "This is a little bit more involved to do."
   ]
  },
  {
   "cell_type": "code",
   "execution_count": null,
   "metadata": {},
   "outputs": [],
   "source": [
    "gs = df.groupby([\"elected\", \"censuscategory\"]).percent_votes\n",
    "data = (\n",
    "    pd.concat(\n",
    "        [gs.mean().rename(\"pct_votes_mean\"), gs.sem().rename(\"pct_votes_sem\")],\n",
    "        axis=1)\n",
    "    .reset_index())\n",
    "print(data)\n",
    "\n",
    "x = pd.Series([i for i in range(len(data.censuscategory.cat.categories))])\n",
    "width = .35  # the width of the bars\n",
    "\n",
    "fig, ax = plt.subplots()\n",
    "\n",
    "rects1 = ax.bar(\n",
    "    x - width/2, \n",
    "    data[data.elected == \"Elected\"].pct_votes_mean, \n",
    "    width, \n",
    "    yerr=data[data.elected == \"Elected\"].pct_votes_sem,\n",
    "    capsize=2,\n",
    "    label='Elected')\n",
    "\n",
    "rects2 = ax.bar(\n",
    "    x + width/2, \n",
    "    data[data.elected == \"Not elected\"].pct_votes_mean,\n",
    "    width, \n",
    "    yerr=data[data.elected == \"Not elected\"].pct_votes_sem,\n",
    "    capsize=2,\n",
    "    label='Not elected')\n",
    "\n",
    "ax.set(\n",
    "    title=\"Vote Share by Occupation and Incumbency\",\n",
    "    ylabel=\"Vote Share (%)\",\n",
    "    xticks=x,\n",
    "    xticklabels=data.censuscategory.cat.categories)\n",
    "\n",
    "ax.tick_params(axis=\"x\", labelrotation = 90)\n",
    "\n",
    "ax.legend()\n",
    "\n",
    "fig.tight_layout()\n",
    "\n",
    "plt.show()"
   ]
  },
  {
   "cell_type": "markdown",
   "metadata": {},
   "source": [
    "### Multiple Subplots & Faceting\n",
    "\n",
    "Often, we want to have multiple subplots in the same figure. \n",
    "\n",
    "Sometimes, this is done to provide additional information.\n",
    "\n",
    "But, often, it is done to prevent overplotting. This is called faceting.\n",
    "\n",
    "Consider the scatterplot by gender that we created previously.\n",
    "\n",
    "Let's split each view into multiple subplots."
   ]
  },
  {
   "cell_type": "code",
   "execution_count": null,
   "metadata": {},
   "outputs": [],
   "source": [
    "data = df.sort_values([\"id\", \"year\"])\n",
    "data[\"percent_votes_lag\"] = data.groupby(\"id\").percent_votes.shift()\n",
    "\n",
    "data = data[[\"gender\", \"percent_votes_lag\", \"percent_votes\"]].dropna()\n",
    "print(data)\n",
    "\n",
    "fig, axs = plt.subplots(ncols=3, sharex=True, sharey=True)\n",
    "\n",
    "\n",
    "for ax, (name, _data) in zip(axs, data.groupby(\"gender\")):\n",
    "    ax.set(title=name)\n",
    "    ax.scatter(\n",
    "        x=\"percent_votes_lag\", \n",
    "        y=\"percent_votes\",\n",
    "        s=2,\n",
    "        alpha=.3,\n",
    "        data=_data)\n",
    "\n",
    "axs[0].set(ylabel=\"Current Vote Share (%)\")\n",
    "axs[1].set(xlabel=\"Previous Vote Share (%)\")\n",
    "\n",
    "fig.suptitle(\"Past and Current Vote Share by Gender\")\n",
    "    \n",
    "fig.show() # Looks pretty bad"
   ]
  },
  {
   "cell_type": "markdown",
   "metadata": {},
   "source": [
    "#### Exercise\n",
    "\n",
    "We are actually employing three different strategies for dealing with overplotting here.\n",
    "\n",
    "Can you name them?"
   ]
  },
  {
   "cell_type": "markdown",
   "metadata": {},
   "source": [
    "## Conclusion\n",
    "\n",
    "This is the end of our whirlwind tour of data visualization in Python using `matplotib`. \n",
    "\n",
    "I'll leave you with some pointers for further exploration.\n",
    "\n",
    "### Advanced matplotlib\n",
    "\n",
    "- Customizing subplot layouts\n",
    "- Controling scaling (log, semilog, etc.)\n",
    "- Plotting images, quivers, and 3D data\n",
    "- Creating animations\n",
    "\n",
    "### Other Plotting Tools Using Matplotlib\n",
    "\n",
    "- Seaborn, providing more convenient APIs for typical data science plotting (e.g. grouping)\n",
    "- plotnine, grammar of graphics in Python, uses matplotlib as backend"
   ]
  }
 ],
 "metadata": {
  "celltoolbar": "Slideshow",
  "interpreter": {
   "hash": "5dcc4f0ae8e8359f7cc3ec45b6caa537c980bccc672364645f55033b161f1176"
  },
  "kernelspec": {
   "display_name": "Python 3 (ipykernel)",
   "language": "python",
   "name": "python3"
  },
  "language_info": {
   "codemirror_mode": {
    "name": "ipython",
    "version": 3
   },
   "file_extension": ".py",
   "mimetype": "text/x-python",
   "name": "python",
   "nbconvert_exporter": "python",
   "pygments_lexer": "ipython3",
   "version": "3.9.0"
  }
 },
 "nbformat": 4,
 "nbformat_minor": 2
}
