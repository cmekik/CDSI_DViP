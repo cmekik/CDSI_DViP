{
 "cells": [
  {
   "cell_type": "markdown",
   "metadata": {
    "id": "PXpK6IDB0Z-0",
    "slideshow": {
     "slide_type": "slide"
    }
   },
   "source": [
    "# Data Visualization in Python\n",
    "\n",
    "Can Şerif Mekik\n",
    "\n",
    "PhD Candidate <br/>\n",
    "Department of Cognitive Science <br/>\n",
    "Rensselaer Polytechnic Institute\n",
    "\n",
    "March 24, 2022\n",
    "\n",
    "<table align=\"left\">\n",
    "<tr>\n",
    "<td><img src=https://github.com/cmekik/CDSI_DViP/blob/main/CDSI_Fac.of.Sc_logo.png?raw=1 alt=\"CDSI Logo\" width=\"300\"/></td>\n",
    "<td><img src=https://github.com/cmekik/CDSI_DViP/blob/main/mcgill_ccr_approval_croppedforblock_0.png?raw=1 alt=\"CCR Approved Logo\" width=\"300\"/></td>\n",
    "</tr>\n",
    "</table>"
   ]
  },
  {
   "cell_type": "markdown",
   "metadata": {
    "id": "rq5PAcQs0Z_C",
    "slideshow": {
     "slide_type": "slide"
    }
   },
   "source": [
    "## Introductory Remarks\n",
    "\n",
    "This workshop assumes minimal working knowledge of Python. \n",
    "\n",
    "We will learn the basics of using the `matplotlib` library for producing beautiful data visualizations.\n",
    "\n",
    "Matplotlib is the standard plotting package in Python. It is very flexible, capable of creating basic 2D plots, 3D plots, and even animations.\n",
    "\n",
    "Working knowledge of the Pandas package is an asset, although it is not required. \n",
    "\n",
    "We will use `pandas` to prepare our data for plotting.\n",
    "\n",
    "This workshop is heavily inspired by Ben Root's [Anatomy of Matplotlib](https://github.com/matplotlib/AnatomyOfMatplotlib/tree/master/)."
   ]
  },
  {
   "cell_type": "markdown",
   "metadata": {
    "id": "SWTKGRzk0Z_D",
    "slideshow": {
     "slide_type": "slide"
    }
   },
   "source": [
    "### Useful Resources\n",
    "\n",
    "The [Matplotlib Cheatsheet](https://matplotlib.org/cheatsheets/cheatsheets.pdf) is an excellent two-page summary of essential `matplotlib` features.\n",
    "\n",
    "The [Official Matplotlib Docs](https://matplotlib.org/stable/index.html) are the single best resource for information short of the source code. It contains tutorials, reference documentation and more.\n",
    "\n",
    "The [Example Gallery](https://matplotlib.org/stable/gallery/index.html) is particularly helpful when you have something specific in mind."
   ]
  },
  {
   "cell_type": "markdown",
   "metadata": {
    "id": "eH-pzXD30Z_F",
    "slideshow": {
     "slide_type": "slide"
    }
   },
   "source": [
    "### Contents\n",
    "\n",
    "1. Setup\n",
    "2. Basic Concepts\n",
    "3. Essential Plotting Methods\n",
    "4. Controlling Figure Appearance\n",
    "5. More Advanced Plotting: Grouping, Multiple Subplots & Faceting  \n",
    "6. Conclusion"
   ]
  },
  {
   "cell_type": "markdown",
   "metadata": {
    "id": "qKCOvRqI0Z_F",
    "slideshow": {
     "slide_type": "slide"
    }
   },
   "source": [
    "## Setup\n",
    "\n",
    "We will create and adjust various graphs using the matplotlib library.\n",
    "\n",
    "To follow the workshop on your own machine, you should have Anaconda already installed.\n",
    "\n",
    "https://www.anaconda.com/products/individual\n",
    "\n",
    "This will automatically include the necessary dependencies.\n",
    "\n",
    "Our data set is a subset of Semra Sevi's Canadian Federal Elections dataset.\n",
    "\n",
    "You can find a copies of the dataset and code at the following address.\n",
    "\n",
    "https://github.com/cmekik/CDSI_DViP"
   ]
  },
  {
   "cell_type": "markdown",
   "metadata": {
    "id": "04LFagfd0Z_G",
    "slideshow": {
     "slide_type": "slide"
    }
   },
   "source": [
    "### Getting Ready to Code\n",
    "\n",
    "`Jupyter` is a python tool for rich interactive coding that ships with Anaconda.\n",
    "\n",
    "This presentation uses `Jupyter` notebook, in fact!\n",
    "\n",
    "To get set, create a new folder in which you will work and copy the materials into it.\n",
    "\n",
    "Then launch your machines console, navigate to your folder, activate your conda environment, and run the following.\n",
    "\n",
    "```jupyter notebook```\n",
    "\n",
    "This should launch Jupyter notebook in your browser. When it does, you can open the notebook."
   ]
  },
  {
   "cell_type": "markdown",
   "metadata": {
    "id": "WGODv-3c0Z_H",
    "slideshow": {
     "slide_type": "slide"
    }
   },
   "source": [
    "#### Installing and Importing pandas\n",
    "\n",
    "`pandas` comes pre-packaged in Anaconda.\n",
    "\n",
    "You can always install it using the following pip command: ```pip install pandas```\n",
    "\n",
    "If you have conda, but not pandas, you can also do: ```conda install pandas```"
   ]
  },
  {
   "cell_type": "code",
   "execution_count": null,
   "metadata": {
    "colab": {
     "base_uri": "https://localhost:8080/"
    },
    "id": "ayrGxq4k0Z_I",
    "outputId": "9bb2f7cf-ccca-448d-a311-d24e8b5e4c2b",
    "slideshow": {
     "slide_type": "slide"
    }
   },
   "outputs": [],
   "source": [
    "import pandas as pd\n",
    "\n",
    "df = pd.read_csv(\n",
    "    \"cleaned.csv\",\n",
    "    dtype={ # clean up datatypes a bit\n",
    "        \"province\": \"category\",\n",
    "        \"riding\": \"category\",\n",
    "        \"birth_year\": \"Int64\",\n",
    "        \"gender\": \"category\",\n",
    "        \"censuscategory\": \"category\",\n",
    "        \"party_major_group\": \"category\",\n",
    "        \"elected\": \"category\",\n",
    "    })\n",
    "\n",
    "# Inspect the variable metadata\n",
    "df.info()"
   ]
  },
  {
   "cell_type": "markdown",
   "metadata": {
    "id": "759xS6e70Z_L",
    "slideshow": {
     "slide_type": "slide"
    }
   },
   "source": [
    "#### Installing and Importing matplotlib\n",
    "\n",
    "`matplotlib` comes pre-packaged in Anaconda.\n",
    "\n",
    "You can always install it using the following pip command: ```pip install matplotlib```\n",
    "\n",
    "If you have conda, but not pandas, you can also do: ```conda install matplotib```"
   ]
  },
  {
   "cell_type": "markdown",
   "metadata": {
    "id": "31bPX_Yo0Z_M",
    "slideshow": {
     "slide_type": "slide"
    }
   },
   "source": [
    "When used with jupyter notebooks, matplotlib exhibits some specialized behavior. \n",
    "\n",
    "To get it to behave more like it would in a script, we run the following code snippet."
   ]
  },
  {
   "cell_type": "code",
   "execution_count": null,
   "metadata": {
    "id": "EfLvi3jV0Z_N"
   },
   "outputs": [],
   "source": [
    "import matplotlib as mpl\n",
    "mpl.use(\"nbagg\") # must be run before any other mpl functions"
   ]
  },
  {
   "cell_type": "markdown",
   "metadata": {
    "id": "qj3GO7tb0Z_O",
    "slideshow": {
     "slide_type": "slide"
    }
   },
   "source": [
    "The standard way to start using matplotlib is to run the following snippet."
   ]
  },
  {
   "cell_type": "code",
   "execution_count": null,
   "metadata": {
    "id": "p4Urih_T0Z_O"
   },
   "outputs": [],
   "source": [
    "import matplotlib.pyplot as plt"
   ]
  },
  {
   "cell_type": "markdown",
   "metadata": {
    "id": "fa0vw2W10Z_P",
    "slideshow": {
     "slide_type": "slide"
    }
   },
   "source": [
    "## Basic Concepts\n",
    "\n",
    "Matplotlib figures are complex objects, so it is important to have a general understanding of their structure.\n",
    "\n",
    "We'll start with that."
   ]
  },
  {
   "cell_type": "markdown",
   "metadata": {
    "id": "EZPY5fyG0Z_P",
    "slideshow": {
     "slide_type": "slide"
    }
   },
   "source": [
    "### Figure Creation vs. Display\n",
    "\n",
    "Before getting into theory, let's take a quick look at the basic mechanics of creating and displaying figures."
   ]
  },
  {
   "cell_type": "code",
   "execution_count": null,
   "metadata": {
    "colab": {
     "base_uri": "https://localhost:8080/",
     "height": 265
    },
    "id": "RBlMWQ9y0Z_X",
    "outputId": "af8679d4-60ef-44f6-d055-0b485e852e23"
   },
   "outputs": [],
   "source": [
    "# Create some data\n",
    "X, Y = [i for i in range(20)], [i ** 2 for i in range(20)]\n",
    "\n",
    "plt.plot(X, Y) # Create a line plot of the data on 'current' figure\n",
    "plt.show() # Show the result"
   ]
  },
  {
   "cell_type": "markdown",
   "metadata": {
    "id": "LuVxNXxe0Z_Y",
    "slideshow": {
     "slide_type": "slide"
    }
   },
   "source": [
    "This quick example hides a lot of detail. \n",
    "\n",
    "It's not uncommon to write code like this when trying to quickly understand what's going on with a dataset.\n",
    "\n",
    "You should retain a few things from this example:\n",
    "- We didn't have to explicitly create or configure a new figure because matplotlib always tracks a 'current' figure (similar to matlab). This is very convenient, but is not always the best option.\n",
    "- To display or render a figure that we have created we **must** call `plt.show()` or something similar.\n",
    "- Matplotlib figures are interactive: you can zoom, pan, save, etc."
   ]
  },
  {
   "cell_type": "markdown",
   "metadata": {
    "id": "lnvpBjrO0Z_Z",
    "slideshow": {
     "slide_type": "slide"
    }
   },
   "source": [
    "### Anatomy of a Figure\n",
    "\n",
    "To get a sense for the different components of a matplotlib figure, take a look at the image below. \n",
    "\n",
    "<img src=\"https://github.com/cmekik/CDSI_DViP/blob/main/anatomy_of_a_figure.png?raw=1\" alt=\"Anatomy of a Figure\" width=\"500\"/>\n",
    "\n",
    "This image is provided in the matplotlib docs, and its source code can be found [here](https://matplotlib.org/stable/gallery/showcase/anatomy.html)."
   ]
  },
  {
   "cell_type": "markdown",
   "metadata": {
    "id": "m72D5LOo0Z_Z",
    "slideshow": {
     "slide_type": "slide"
    }
   },
   "source": [
    "Taking a step back, here are the main components of a figure:\n",
    "- The `Figure` object, which contains all figure components\n",
    "- `Axes`/`Subplots` which house the individual axes of each subplot \n",
    "- `XAxis`, `YAxis` in each subplot, which house data about individual axes (tick marks etc.)\n",
    "- Other stuff"
   ]
  },
  {
   "cell_type": "markdown",
   "metadata": {
    "id": "wGZL4xq50Z_a",
    "slideshow": {
     "slide_type": "slide"
    }
   },
   "source": [
    "### Explicitly Initializing and Closing Figures.\n",
    "\n",
    "Instead of using plotting functions from pyplot, like `plt.plot()`, it is better to create and work with `Axes` objects.\n",
    "\n",
    "This style is more explicit and, ultimately, more flexible."
   ]
  },
  {
   "cell_type": "code",
   "execution_count": null,
   "metadata": {
    "colab": {
     "base_uri": "https://localhost:8080/",
     "height": 299
    },
    "id": "C9IgxGBf0Z_a",
    "outputId": "7776b0a5-1a1c-45f5-da2f-5d7e29a3680f"
   },
   "outputs": [],
   "source": [
    "# Create some data\n",
    "X, Y = [i for i in range(20)], [i ** 2 for i in range(20)]\n",
    "\n",
    "fig, ax = plt.subplots() # Create a new figure with 1 subplot\n",
    "# This function returns a tuple. The first element is the new figure.\n",
    "# The second element is an `Axes` object if only one subplot is requested,\n",
    "# Otherwise it is an array of `Axes` objects.\n",
    "\n",
    "ax.set( # Add some labels\n",
    "    title=\"Plot of $y = x^2$\",\n",
    "    xlabel=\"$x$\",\n",
    "    ylabel=\"$y$\")\n",
    "\n",
    "ax.plot(X, Y) # Create a line plot of the data on 'current' figure\n",
    "\n",
    "fig.show() # Show the result"
   ]
  },
  {
   "cell_type": "markdown",
   "metadata": {
    "id": "uLON22dg0Z_b"
   },
   "source": [
    "You can save the figure we just created as follows."
   ]
  },
  {
   "cell_type": "code",
   "execution_count": null,
   "metadata": {
    "id": "vyGIn-G90Z_b"
   },
   "outputs": [],
   "source": [
    "fig.savefig(\"example.png\")"
   ]
  },
  {
   "cell_type": "markdown",
   "metadata": {
    "id": "i31lWEqf0Z_c"
   },
   "source": [
    "If you create and save a lot of figures programmatically, you might have to explicitly close figure to save memory, as below.\n",
    "\n",
    "This is an unfortunate quirk of matplotlib. There are other workarounds that may be more or less suitable depending on your situation, but they are a bit more advanced and not covered in further detail here.\n",
    "\n",
    "Notice that when you run the `plt.close()` on `fig`, it loses interactivity."
   ]
  },
  {
   "cell_type": "code",
   "execution_count": null,
   "metadata": {
    "id": "ZWfUSOUF0Z_c"
   },
   "outputs": [],
   "source": [
    "plt.close(fig)"
   ]
  },
  {
   "cell_type": "markdown",
   "metadata": {
    "id": "dJ3IWZWk0Z_d"
   },
   "source": [
    "## Essential Plotting Methods\n",
    "\n",
    "Let's survey how to create some common plot types. \n",
    "\n",
    "We'll focus on typical statistical plots. See the [plot types](https://matplotlib.org/stable/plot_types/index.html) page for a more complete listing (e.g., quivers). "
   ]
  },
  {
   "cell_type": "markdown",
   "metadata": {
    "id": "6N-_zXMb0Z_d"
   },
   "source": [
    "### `ax.hist()`\n",
    "\n",
    "[Reference Documentation]()\n",
    "\n",
    "Plots a histogram.\n",
    "\n",
    "Great for getting a sense of the distribution of a continuous variable."
   ]
  },
  {
   "cell_type": "code",
   "execution_count": null,
   "metadata": {
    "colab": {
     "base_uri": "https://localhost:8080/",
     "height": 265
    },
    "id": "JzlGMox80Z_d",
    "outputId": "75a61739-70a7-4f01-91fc-946ff4ba6675",
    "scrolled": false
   },
   "outputs": [],
   "source": [
    "fig, ax = plt.subplots()\n",
    "ax.hist(df.percent_votes.dropna(), bins=\"auto\")\n",
    "plt.show()"
   ]
  },
  {
   "cell_type": "markdown",
   "metadata": {
    "id": "jTd1VdtB0Z_e"
   },
   "source": [
    "#### Exercise 1\n",
    "\n",
    "Create a histogram of the margins of victory.\n",
    "\n",
    "Try different integer values for the `bins` parameter. What do you observe?"
   ]
  },
  {
   "cell_type": "code",
   "execution_count": null,
   "metadata": {
    "colab": {
     "base_uri": "https://localhost:8080/",
     "height": 265
    },
    "id": "TEix1ulJ0Z_f",
    "outputId": "6a88f254-7e5c-40d4-fa71-eb645899c5a7"
   },
   "outputs": [],
   "source": [
    "# Setup\n",
    "\n",
    "margin = df.margin.dropna()"
   ]
  },
  {
   "cell_type": "code",
   "execution_count": null,
   "metadata": {
    "colab": {
     "base_uri": "https://localhost:8080/",
     "height": 265
    },
    "id": "TEix1ulJ0Z_f",
    "outputId": "6a88f254-7e5c-40d4-fa71-eb645899c5a7"
   },
   "outputs": [],
   "source": [
    "# Your code goes here\n"
   ]
  },
  {
   "cell_type": "markdown",
   "metadata": {
    "id": "KmSCfKmM0Z_f"
   },
   "source": [
    "### `ax.boxplot()`\n",
    "\n",
    "[Reference Documentation](https://matplotlib.org/stable/api/_as_gen/matplotlib.axes.Axes.boxplot.html?highlight=boxplot#matplotlib.axes.Axes.boxplot)\n",
    "\n",
    "Creates boxplots.\n",
    "\n",
    "Classic plot for succinctly reporting non-parametric descriptives about a variable.\n",
    "\n",
    "Plots, for each variable, the median and interquartile range. \n",
    "\n",
    "Marks outliers that are more than 1.5xIQR less than Q1 or more than Q3."
   ]
  },
  {
   "cell_type": "code",
   "execution_count": null,
   "metadata": {
    "colab": {
     "base_uri": "https://localhost:8080/",
     "height": 281
    },
    "id": "X57wcphZ0Z_g",
    "outputId": "9860e236-6ca6-4b1e-c90c-6019a394ed14",
    "scrolled": false
   },
   "outputs": [],
   "source": [
    "# If we wanted, we could produce a for only one variable.\n",
    "# This code demonstrates how to put multiple boxplots on the same axes.\n",
    "\n",
    "data = (df[[\"percent_votes\", \"margin\"]]\n",
    "    .rename(columns={\"percent_votes\": \"Vote Share (%)\", \"margin\":\"Margin\"})\n",
    "    .dropna())\n",
    "\n",
    "fig, ax = plt.subplots()\n",
    "\n",
    "ax.set(\n",
    "    title=\"Boxplots for Vote Share and Margin\",\n",
    "    ylabel=\"Percentage\")\n",
    "\n",
    "ax.boxplot(\n",
    "    [data[s] for s in data], \n",
    "    labels=data.columns)\n",
    "\n",
    "fig.show()"
   ]
  },
  {
   "cell_type": "markdown",
   "metadata": {
    "id": "RXRN2yQE0Z_h"
   },
   "source": [
    "#### Exercise 2\n",
    "\n",
    "Create a boxplot for the number of votes. Add a title and labels."
   ]
  },
  {
   "cell_type": "code",
   "execution_count": null,
   "metadata": {
    "colab": {
     "base_uri": "https://localhost:8080/",
     "height": 281
    },
    "id": "SdsVIFsD0Z_h",
    "outputId": "e76834c8-5769-4124-86ac-1e47cc29a6a6"
   },
   "outputs": [],
   "source": [
    "# Exercise setup\n",
    "\n",
    "votes = df.votes.dropna() # Vote variable"
   ]
  },
  {
   "cell_type": "code",
   "execution_count": null,
   "metadata": {
    "colab": {
     "base_uri": "https://localhost:8080/",
     "height": 281
    },
    "id": "SdsVIFsD0Z_h",
    "outputId": "e76834c8-5769-4124-86ac-1e47cc29a6a6"
   },
   "outputs": [],
   "source": [
    "# Your code goes here\n"
   ]
  },
  {
   "cell_type": "markdown",
   "metadata": {
    "id": "pFjkZhiT0Z_h"
   },
   "source": [
    "### `ax.violinplot()`\n",
    "\n",
    "[Reference Documentation](https://matplotlib.org/stable/api/_as_gen/matplotlib.axes.Axes.violinplot.html?highlight=violinplot#matplotlib.axes.Axes.violinplot)\n",
    "\n",
    "Violin plots combine the information contained in histograms and boxplots in one neat plot."
   ]
  },
  {
   "cell_type": "code",
   "execution_count": null,
   "metadata": {
    "colab": {
     "base_uri": "https://localhost:8080/",
     "height": 281
    },
    "id": "tKSH1pwW0Z_i",
    "outputId": "b1016d4c-a2a8-4872-bd15-f82b13cebc12"
   },
   "outputs": [],
   "source": [
    "# Setup\n",
    "\n",
    "data = (\n",
    "    df[[\"percent_votes\", \"margin\"]]\n",
    "    .rename(columns={\"percent_votes\": \"Vote Share (%)\", \"margin\":\"Margin\"})\n",
    "    .dropna())"
   ]
  },
  {
   "cell_type": "code",
   "execution_count": null,
   "metadata": {
    "colab": {
     "base_uri": "https://localhost:8080/",
     "height": 281
    },
    "id": "tKSH1pwW0Z_i",
    "outputId": "b1016d4c-a2a8-4872-bd15-f82b13cebc12"
   },
   "outputs": [],
   "source": [
    "# Plot\n",
    "\n",
    "# If we wanted, we could produce a violin plot for only one variable.\n",
    "# This code demonstrates how to put multiple boxplots on the same axes.\n",
    "\n",
    "fig, ax = plt.subplots()\n",
    "\n",
    "ax.set(\n",
    "    title=\"Violin plots for Vote Share and Margin\",\n",
    "    ylabel=\"Percentage\",\n",
    "    xticks=[1, 2],\n",
    "    xticklabels=data.columns)\n",
    "\n",
    "ax.violinplot(\n",
    "    [data[s] for s in data],\n",
    "    showmedians=True,\n",
    "    quantiles=[[0.25, 0.75], [0.25, 0.75]])\n",
    "\n",
    "fig.show()"
   ]
  },
  {
   "cell_type": "markdown",
   "metadata": {
    "id": "8FhUCdYj0Z_j"
   },
   "source": [
    "#### Exercise 3\n",
    "\n",
    "Create a violin plot for the number of votes. Include marks for the medians as well as the Q33 and Q66."
   ]
  },
  {
   "cell_type": "code",
   "execution_count": null,
   "metadata": {
    "colab": {
     "base_uri": "https://localhost:8080/",
     "height": 281
    },
    "id": "3vREj5u90Z_j",
    "outputId": "24306312-035f-402c-dc1a-9627cc229aa1"
   },
   "outputs": [],
   "source": [
    "# Setup\n",
    "\n",
    "votes = df.votes.dropna() # votes variable"
   ]
  },
  {
   "cell_type": "code",
   "execution_count": null,
   "metadata": {
    "colab": {
     "base_uri": "https://localhost:8080/",
     "height": 281
    },
    "id": "3vREj5u90Z_j",
    "outputId": "24306312-035f-402c-dc1a-9627cc229aa1"
   },
   "outputs": [],
   "source": [
    "# Your code goes here\n"
   ]
  },
  {
   "cell_type": "markdown",
   "metadata": {
    "id": "urd34Ah00Z_k"
   },
   "source": [
    "### `ax.bar()`\n",
    "\n",
    "[Reference Documentation](https://matplotlib.org/stable/api/_as_gen/matplotlib.pyplot.bar.html)\n",
    "\n",
    "Bar charts, optionally with error bars.\n",
    "\n",
    "Ideal for plotting statistics for data grouped by categories.\n",
    "\n",
    "Default is vertical, but can construct horizontal bars using [`ax.barh()`](https://matplotlib.org/stable/api/_as_gen/matplotlib.pyplot.barh.html)."
   ]
  },
  {
   "cell_type": "code",
   "execution_count": null,
   "metadata": {
    "colab": {
     "base_uri": "https://localhost:8080/",
     "height": 364
    },
    "id": "7TJlTZD80Z_k",
    "outputId": "f6bbdca5-8455-4e09-b1a1-2f485469054f"
   },
   "outputs": [],
   "source": [
    "# Setup\n",
    "\n",
    "gs = df.groupby(\"gender\").percent_votes\n",
    "pct_votes_x_gender = (\n",
    "    pd.concat(\n",
    "        [gs.mean().rename(\"mean\"), gs.sem().rename(\"sem\")], \n",
    "        axis=1)\n",
    "    .reset_index())\n",
    "\n",
    "print(pct_votes_x_gender)"
   ]
  },
  {
   "cell_type": "code",
   "execution_count": null,
   "metadata": {
    "colab": {
     "base_uri": "https://localhost:8080/",
     "height": 364
    },
    "id": "7TJlTZD80Z_k",
    "outputId": "f6bbdca5-8455-4e09-b1a1-2f485469054f"
   },
   "outputs": [],
   "source": [
    "# Plot\n",
    "\n",
    "fig, ax = plt.subplots()\n",
    "\n",
    "ax.set(\n",
    "    title=\"Mean Vote Share by Gender Since 1990\",\n",
    "    xlabel=\"Gender\",\n",
    "    ylabel=\"Vote Share (%)\")\n",
    "\n",
    "ax.bar(\n",
    "    x=\"gender\", \n",
    "    height=\"mean\", \n",
    "    yerr=\"sem\", \n",
    "    data=pct_votes_x_gender, \n",
    "    linewidth=1,\n",
    "    capsize=3,\n",
    "    color=\"0.7\",\n",
    "    edgecolor=\"k\"\n",
    "    )\n",
    "\n",
    "fig.show()"
   ]
  },
  {
   "cell_type": "markdown",
   "metadata": {
    "id": "PFUmW8O_0Z_l"
   },
   "source": [
    "#### Exercise 4\n",
    "\n",
    "Create a bar graph showing the mean vote share by incumbency status with error bars."
   ]
  },
  {
   "cell_type": "code",
   "execution_count": null,
   "metadata": {
    "colab": {
     "base_uri": "https://localhost:8080/",
     "height": 347
    },
    "id": "GKhJHHaJ0Z_l",
    "outputId": "1d791d23-8154-4d74-e9ed-251632ab0ef8"
   },
   "outputs": [],
   "source": [
    "# Setup\n",
    "\n",
    "df[\"incumbency\"] = (df\n",
    "     .sort_values([\"id\", \"year\"])\n",
    "     .groupby(\"id\")\n",
    "     .elected\n",
    "     .shift()\n",
    "     .cat.rename_categories({\"Elected\": \"Incumbent\", \"Not elected\": \"Nonincumbent\"}))\n",
    "\n",
    "\n",
    "gs = df.groupby(\"incumbency\").percent_votes\n",
    "pct_votes_x_incumbency = ( # Use this as your data\n",
    "    pd.concat(\n",
    "        [gs.mean().rename(\"mean\"), gs.sem().rename(\"sem\")], \n",
    "        axis=1)\n",
    "    .reset_index())\n",
    "\n",
    "print(pct_votes_x_incumbency)"
   ]
  },
  {
   "cell_type": "code",
   "execution_count": null,
   "metadata": {
    "colab": {
     "base_uri": "https://localhost:8080/",
     "height": 347
    },
    "id": "GKhJHHaJ0Z_l",
    "outputId": "1d791d23-8154-4d74-e9ed-251632ab0ef8",
    "scrolled": false
   },
   "outputs": [],
   "source": [
    "# Your code goes here\n"
   ]
  },
  {
   "cell_type": "markdown",
   "metadata": {
    "id": "-E2yd5uR0Z_m"
   },
   "source": [
    "### `ax.errorbar()`\n",
    "\n",
    "Another graph for presenting estimates by category is [`ax.errorbar()`](https://matplotlib.org/stable/api/_as_gen/matplotlib.axes.Axes.errorbar.html).\n",
    "\n",
    "Here is the same information as in the initial bar plot, using errorbar instead."
   ]
  },
  {
   "cell_type": "code",
   "execution_count": null,
   "metadata": {
    "colab": {
     "base_uri": "https://localhost:8080/",
     "height": 364
    },
    "id": "M5Av9v6u0Z_n",
    "outputId": "7e4afe22-a4a2-4730-f970-05eef3dfb1d2"
   },
   "outputs": [],
   "source": [
    "# Setup\n",
    "\n",
    "gs = df.groupby(\"gender\").percent_votes\n",
    "pct_votes_x_gender = (\n",
    "    pd.concat(\n",
    "        [gs.mean().rename(\"mean\"), gs.sem().rename(\"sem\")], \n",
    "        axis=1)\n",
    "    .reset_index())\n",
    "\n",
    "print(pct_votes_x_gender)\n",
    "\n",
    "fig, ax = plt.subplots(1)"
   ]
  },
  {
   "cell_type": "code",
   "execution_count": null,
   "metadata": {
    "colab": {
     "base_uri": "https://localhost:8080/",
     "height": 364
    },
    "id": "M5Av9v6u0Z_n",
    "outputId": "7e4afe22-a4a2-4730-f970-05eef3dfb1d2"
   },
   "outputs": [],
   "source": [
    "# Plot\n",
    "\n",
    "ax.set(\n",
    "    xlim=[-.5, 2.5],\n",
    "    title=\"Mean Vote Share by Gender Since 1990\",\n",
    "    xlabel=\"Gender\",\n",
    "    ylabel=\"Vote Share (%)\")\n",
    "\n",
    "ax.errorbar(\n",
    "    x=\"gender\", \n",
    "    y=\"mean\", \n",
    "    yerr=\"sem\", \n",
    "    data=pct_votes_x_gender, \n",
    "    fmt=\"o\",\n",
    "    linewidth=1,\n",
    "    capsize=4,\n",
    "    color=\"k\",\n",
    "    markersize=5\n",
    "    )\n",
    "\n",
    "fig.show()"
   ]
  },
  {
   "cell_type": "markdown",
   "metadata": {},
   "source": [
    "#### Exercise 5\n",
    "\n",
    "Create an error bar graph showing the mean vote share by incumbency status."
   ]
  },
  {
   "cell_type": "code",
   "execution_count": null,
   "metadata": {},
   "outputs": [],
   "source": [
    "# Exercise Setup\n",
    "\n",
    "df[\"incumbency\"] = (df\n",
    "     .sort_values([\"id\", \"year\"])\n",
    "     .groupby(\"id\")\n",
    "     .elected\n",
    "     .shift()\n",
    "     .cat.rename_categories({\"Elected\": \"Incumbent\", \"Not elected\": \"Nonincumbent\"}))\n",
    "\n",
    "\n",
    "gs = df.groupby(\"incumbency\").percent_votes\n",
    "pct_votes_x_incumbency = ( # Use this as your data\n",
    "    pd.concat(\n",
    "        [gs.mean().rename(\"mean\"), gs.sem().rename(\"sem\")], \n",
    "        axis=1)\n",
    "    .reset_index())\n",
    "\n",
    "print(pct_votes_x_incumbency)"
   ]
  },
  {
   "cell_type": "code",
   "execution_count": null,
   "metadata": {},
   "outputs": [],
   "source": [
    "# Your code goes here\n"
   ]
  },
  {
   "cell_type": "markdown",
   "metadata": {
    "id": "eV_E6qZp0Z_n"
   },
   "source": [
    "### `ax.plot()`\n",
    "\n",
    "[Reference Documentation](https://matplotlib.org/stable/api/_as_gen/matplotlib.pyplot.plot.html)\n",
    "\n",
    "Plot a function.\n",
    "\n",
    "Ideal for situations where $y$ and $x$ are ordered or continuous variables and $y$ is a function of $x$ (i.e., there is exactly one $y$ value for each $x$ value).\n",
    "\n",
    "Can plot markers, lines or both."
   ]
  },
  {
   "cell_type": "code",
   "execution_count": null,
   "metadata": {
    "colab": {
     "base_uri": "https://localhost:8080/",
     "height": 486
    },
    "id": "oLsAOmSl0Z_o",
    "outputId": "1eb9b8fd-394f-4eaa-a1bf-02290a2bf131"
   },
   "outputs": [],
   "source": [
    "# Setup\n",
    "\n",
    "# Calculate percentage of women candidates and MPs in each election\n",
    "\n",
    "candidates = pd.DataFrame({\n",
    "              \"num\": df.groupby(\"year\").id.nunique(),\n",
    "          \"num_MPs\": df[df.elected == \"Elected\"].copy().groupby(\"year\").id.nunique(),\n",
    "        \"num_women\": df[df.gender == \"F\"].copy().groupby(\"year\").id.nunique(),\n",
    "    \"num_women_MPs\": df[(df.gender == \"F\") & (df.elected == \"Elected\")].copy().groupby(\"year\").id.nunique(),\n",
    "})\n",
    "\n",
    "candidates[\"pct_w_cand\"] = 100 * candidates.num_women / candidates.num\n",
    "candidates[\"pct_w_MPs\"] = 100 * candidates.num_women_MPs / candidates.num_MPs\n",
    "candidates = candidates.reset_index()\n",
    "\n",
    "print(candidates)"
   ]
  },
  {
   "cell_type": "code",
   "execution_count": null,
   "metadata": {
    "colab": {
     "base_uri": "https://localhost:8080/",
     "height": 486
    },
    "id": "oLsAOmSl0Z_o",
    "outputId": "1eb9b8fd-394f-4eaa-a1bf-02290a2bf131"
   },
   "outputs": [],
   "source": [
    "# Plot\n",
    "\n",
    "# Note that we can put multiple plots on the same Axes object.\n",
    "# Also note that we can pass the variable name with pandas data object.\n",
    "# Alternatively, we could directly pass the data.\n",
    "\n",
    "fig, ax = plt.subplots()\n",
    "\n",
    "ax.set(\n",
    "    title=\"Canadian Women Politicians after 1990\",\n",
    "    xlabel=\"Year\",\n",
    "    ylabel=\"Percent\")\n",
    "\n",
    "ax.plot(\"year\", \"pct_w_cand\", \"C6--s\", data=candidates, label=\"Candidates\")\n",
    "ax.plot(\"year\", \"pct_w_MPs\", \"C4-\", data=candidates, label=\"MPs\")\n",
    "\n",
    "ax.legend()\n",
    "\n",
    "fig.show()"
   ]
  },
  {
   "cell_type": "markdown",
   "metadata": {
    "id": "DMvGKWGE0Z_o"
   },
   "source": [
    "#### Exercise 6\n",
    "\n",
    "Plot age over time. Include labels."
   ]
  },
  {
   "cell_type": "code",
   "execution_count": null,
   "metadata": {
    "colab": {
     "base_uri": "https://localhost:8080/",
     "height": 486
    },
    "id": "JYbhfl340Z_p",
    "outputId": "9a5bd6d9-91f4-478b-defd-b6db13d75332"
   },
   "outputs": [],
   "source": [
    "# Setup\n",
    "\n",
    "data = df.copy()\n",
    "data[\"age\"] = data.age.astype(\"float\")\n",
    "data = data.groupby(\"year\").age.mean().reset_index()\n",
    "print(data)"
   ]
  },
  {
   "cell_type": "code",
   "execution_count": null,
   "metadata": {
    "colab": {
     "base_uri": "https://localhost:8080/",
     "height": 486
    },
    "id": "JYbhfl340Z_p",
    "outputId": "9a5bd6d9-91f4-478b-defd-b6db13d75332"
   },
   "outputs": [],
   "source": [
    "# Your code goes here\n"
   ]
  },
  {
   "cell_type": "markdown",
   "metadata": {
    "id": "WPSp7HI60Z_p"
   },
   "source": [
    "### `ax.fill_between()`\n",
    "\n",
    "[Reference Documentation](https://matplotlib.org/stable/api/_as_gen/matplotlib.pyplot.fill_between.html)\n",
    "\n",
    "Fills the area between two sets of $y$ values (second $y$ value defaults to 0). \n",
    "\n",
    "Good for presenting uncertainties in continuous estimates."
   ]
  },
  {
   "cell_type": "code",
   "execution_count": null,
   "metadata": {
    "colab": {
     "base_uri": "https://localhost:8080/",
     "height": 486
    },
    "id": "QFlv4wNR0Z_p",
    "outputId": "7bc408eb-da40-485d-9b27-5f87c2a36664"
   },
   "outputs": [],
   "source": [
    "# Setup\n",
    "\n",
    "gs = df.groupby(\"year\").percent_votes\n",
    "data = (\n",
    "    pd.concat(\n",
    "        [gs.mean().rename(\"mean\"), gs.sem().rename(\"sem\")],\n",
    "        axis=1)\n",
    "    .reset_index())\n",
    "\n",
    "data[\"ul\"] = data[\"mean\"] + 1.96 * data[\"sem\"]\n",
    "data[\"ll\"] = data[\"mean\"] - 1.96 * data[\"sem\"]\n",
    "\n",
    "print(data)"
   ]
  },
  {
   "cell_type": "code",
   "execution_count": null,
   "metadata": {
    "colab": {
     "base_uri": "https://localhost:8080/",
     "height": 486
    },
    "id": "QFlv4wNR0Z_p",
    "outputId": "7bc408eb-da40-485d-9b27-5f87c2a36664"
   },
   "outputs": [],
   "source": [
    "# Plot\n",
    "\n",
    "fig, ax = plt.subplots(1)\n",
    "\n",
    "ax.set(\n",
    "    title=\"Average Vote Share Per Candidate Since 1990\",\n",
    "    xlabel=\"Year\",\n",
    "    ylabel=\"Vote Share (%)\")\n",
    "\n",
    "ax.plot(\"year\", \"mean\", \"-\", data=data)\n",
    "ax.fill_between(\n",
    "    x=\"year\", \n",
    "    y1=\"ul\", \n",
    "    y2=\"ll\", \n",
    "    data=data,\n",
    "    alpha=.1)\n",
    "\n",
    "fig.show()"
   ]
  },
  {
   "cell_type": "markdown",
   "metadata": {
    "id": "QbFJPUcc0Z_q"
   },
   "source": [
    "#### Exercise 7\n",
    "\n",
    "Produce a similar graph for the margin of victory."
   ]
  },
  {
   "cell_type": "code",
   "execution_count": null,
   "metadata": {
    "colab": {
     "base_uri": "https://localhost:8080/",
     "height": 486
    },
    "id": "1hAollJ60Z_q",
    "outputId": "b1c50379-78df-4565-dd29-180353f01887"
   },
   "outputs": [],
   "source": [
    "# Setup\n",
    "\n",
    "gs = df.groupby(\"year\").margin\n",
    "data = (\n",
    "    pd.concat(\n",
    "        [gs.mean().rename(\"mean\"), gs.sem().rename(\"sem\")],\n",
    "        axis=1)\n",
    "    .reset_index())\n",
    "\n",
    "data[\"ul\"] = data[\"mean\"] + 1.96 * data[\"sem\"]\n",
    "data[\"ll\"] = data[\"mean\"] - 1.96 * data[\"sem\"]\n",
    "\n",
    "print(data)"
   ]
  },
  {
   "cell_type": "code",
   "execution_count": null,
   "metadata": {
    "colab": {
     "base_uri": "https://localhost:8080/",
     "height": 486
    },
    "id": "1hAollJ60Z_q",
    "outputId": "b1c50379-78df-4565-dd29-180353f01887"
   },
   "outputs": [],
   "source": [
    "# Your code goes here\n",
    "\n"
   ]
  },
  {
   "cell_type": "markdown",
   "metadata": {
    "id": "DbIqixOj0Z_r"
   },
   "source": [
    "### `ax.scatter()`\n",
    "\n",
    "[Reference Documentation](https://matplotlib.org/stable/api/_as_gen/matplotlib.pyplot.scatter.html)\n",
    "\n",
    "Creates a scatter plot.\n",
    "\n",
    "Ideal when your data may be viewed as points in a two-dimensional space.\n",
    "\n",
    "You can map values to marker colors and sizes as well, allowing you to represent higher dimensional data."
   ]
  },
  {
   "cell_type": "code",
   "execution_count": null,
   "metadata": {
    "colab": {
     "base_uri": "https://localhost:8080/",
     "height": 1000
    },
    "id": "7jPZbPGR0Z_r",
    "outputId": "4d88457f-2b23-4920-f57b-c4a980c0d25e"
   },
   "outputs": [],
   "source": [
    "# Setup\n",
    "\n",
    "data = df.sort_values([\"id\", \"year\"])\n",
    "data[\"percent_votes_lag\"] = data.groupby(\"id\").percent_votes.shift()\n",
    "print(data[[\"id\", \"year\", \"percent_votes\", \"percent_votes_lag\"]])"
   ]
  },
  {
   "cell_type": "code",
   "execution_count": null,
   "metadata": {
    "colab": {
     "base_uri": "https://localhost:8080/",
     "height": 1000
    },
    "id": "7jPZbPGR0Z_r",
    "outputId": "4d88457f-2b23-4920-f57b-c4a980c0d25e"
   },
   "outputs": [],
   "source": [
    "# Plot\n",
    "\n",
    "fig, ax = plt.subplots(1)\n",
    "\n",
    "ax.set(\n",
    "    title=\"Relation Between Previous and Current Vote Share\",\n",
    "    xlabel=\"Previous Vote Share (%)\",\n",
    "    ylabel=\"Current Vote Share (%)\")\n",
    "\n",
    "ax.scatter(\n",
    "    x=\"percent_votes_lag\", \n",
    "    y=\"percent_votes\",\n",
    "    s=2,\n",
    "    alpha=.3,\n",
    "    color=\"gray\",\n",
    "    data=data[[\"percent_votes_lag\", \"percent_votes\"]].dropna())\n",
    "\n",
    "plt.show()"
   ]
  },
  {
   "cell_type": "markdown",
   "metadata": {
    "id": "plFtj0G_0Z_s"
   },
   "source": [
    "Let's try mapping a variable to dot color."
   ]
  },
  {
   "cell_type": "code",
   "execution_count": null,
   "metadata": {
    "colab": {
     "base_uri": "https://localhost:8080/",
     "height": 315
    },
    "id": "MIk0er-V0Z_s",
    "outputId": "a267cbcf-fb4a-468a-d219-607387ff63fd"
   },
   "outputs": [],
   "source": [
    "# Calculate the number of votes cast in each riding\n",
    "data = df[df.year == 2021].copy()\n",
    "data[\"num_votes\"] = data.groupby([\"year\", \"province\", \"riding\"]).votes.transform(sum)\n",
    "\n",
    "\n",
    "# Plot the margin against the number of votes in riding and number of votes received.\n",
    "fig, ax = plt.subplots(1)\n",
    "\n",
    "ax.set(\n",
    "    title=\"Margins by Number of Voters and Votes Received\",\n",
    "    xlabel=\"Number of Voters\",\n",
    "    ylabel=\"Votes Received\")\n",
    "ax.tick_params(axis=\"x\", labelrotation = 45)\n",
    "\n",
    "sc = ax.scatter(\n",
    "    x=\"num_votes\", \n",
    "    y=\"votes\", \n",
    "    s=3, \n",
    "    c=\"margin\", \n",
    "    data=data,\n",
    "    cmap=\"coolwarm\",\n",
    "    vmin=-100,\n",
    "    vmax=+100)\n",
    "\n",
    "fig.colorbar(sc)\n",
    "\n",
    "plt.show()"
   ]
  },
  {
   "cell_type": "markdown",
   "metadata": {
    "id": "kI_eTcBQ0Z_s"
   },
   "source": [
    "#### Exercise 8\n",
    "\n",
    "Create a graph similar to the one above, but mapping `percent_votes` to point size instead of mapping `margin` to point color. \n",
    "\n",
    "Can you adjust the point size so that it looks nice?"
   ]
  },
  {
   "cell_type": "code",
   "execution_count": null,
   "metadata": {
    "colab": {
     "base_uri": "https://localhost:8080/",
     "height": 0
    },
    "id": "iTrrGE0D0Z_t",
    "outputId": "4293743c-f776-4d50-a8f4-d3e0f3bcbc4b"
   },
   "outputs": [],
   "source": [
    "# Setup\n",
    "\n",
    "# Calculate the number of votes cast in each riding\n",
    "data = df[df.year == 2021].copy()\n",
    "data[\"num_votes\"] = data.groupby([\"year\", \"province\", \"riding\"]).votes.transform(sum)\n",
    "data.percent_votes = data.percent_votes / 3"
   ]
  },
  {
   "cell_type": "code",
   "execution_count": null,
   "metadata": {
    "colab": {
     "base_uri": "https://localhost:8080/",
     "height": 0
    },
    "id": "iTrrGE0D0Z_t",
    "outputId": "4293743c-f776-4d50-a8f4-d3e0f3bcbc4b"
   },
   "outputs": [],
   "source": [
    "# Your code goes here\n"
   ]
  },
  {
   "cell_type": "markdown",
   "metadata": {
    "id": "St1rtiT-0Z_t"
   },
   "source": [
    "## Controlling Plot Appearance\n",
    "\n",
    "We've already seen how to control several aspects of plot appearance.\n",
    "\n",
    "Let's go into some more detail.\n",
    "\n",
    "Parts of this section are taken directly from Ben Root's  [Anatomy of Matplotlib](https://github.com/matplotlib/AnatomyOfMatplotlib/tree/master/)."
   ]
  },
  {
   "cell_type": "markdown",
   "metadata": {
    "id": "TGrIgk7k0Z_t"
   },
   "source": [
    "### `ax.set(...)` vs. `ax.set_<property>(...)`\n",
    "\n",
    "So far we have used the `ax.set(...)` command to control many aspects of plot appearance.\n",
    "\n",
    "This method is great if you quickly want to make adjustments. \n",
    "\n",
    "So far we have adjusted titles, labels, and ticks. But you can do more with `ax.set()`, like adjusting plotting limits.\n",
    "\n",
    "See [the documentation](https://matplotlib.org/stable/api/_as_gen/matplotlib.axes.Axes.set.html?highlight=set#matplotlib.axes.Axes.set) for a full list of options."
   ]
  },
  {
   "cell_type": "markdown",
   "metadata": {
    "id": "Hfko4_Tz0Z_u"
   },
   "source": [
    "`ax.set()` can be limiting if you want to control details.\n",
    "\n",
    "For instance suppose we want to control the size and font of the title of a graph.\n",
    "\n",
    "In this situation, we can't use `ax.set()`, instead we need to use `ax.set_title(...)`."
   ]
  },
  {
   "cell_type": "code",
   "execution_count": null,
   "metadata": {
    "colab": {
     "base_uri": "https://localhost:8080/",
     "height": 315
    },
    "id": "hDwAjUcw0Z_u",
    "outputId": "704f3b3c-d6d3-4b5f-8a34-1a641fb78330"
   },
   "outputs": [],
   "source": [
    "fig, ax = plt.subplots()\n",
    "ax.set_title(\"My Graph\", fontfamily=\"serif\", size=\"50\")\n",
    "fig.show()"
   ]
  },
  {
   "cell_type": "markdown",
   "metadata": {
    "id": "k0NYUdkC0Z_u"
   },
   "source": [
    "### `fig.set()`\n",
    "\n",
    "[Reference Documentation](https://matplotlib.org/stable/api/figure_api.html#matplotlib.figure.Figure.set)\n",
    "\n",
    "You can set some top-level figure parameters using `fig.set()`.\n",
    "\n",
    "You mainly use this method to adjust the size, aspect ratio, and resolution of a figure."
   ]
  },
  {
   "cell_type": "markdown",
   "metadata": {
    "id": "yh7Jlwzl0Z_v"
   },
   "source": [
    "### Robust Customization\n",
    "\n",
    "[RcParams and Style Customization Tutorial](https://matplotlib.org/stable/tutorials/introductory/customizing.html)\n",
    "\n",
    "You can imagine that styling each figure individually can get old. Luckily there are a few solutions for this.\n",
    "\n",
    "First, it is possible to adjust all defaults provided by matplotlib by playing with the `rcParams` ('rc' for 'runtime configuration').\n",
    "\n",
    "Better yet, matplotlib gives you the option to choose styles, which will automatically update your graphs to have a consistent look and feel. The simplest way to do this is to use `plt.style.use(...)`. E.g: `plt.style.use(\"ggplot\")`.\n",
    "\n",
    "You can also create your own styles."
   ]
  },
  {
   "cell_type": "code",
   "execution_count": null,
   "metadata": {
    "colab": {
     "base_uri": "https://localhost:8080/"
    },
    "id": "NpVLokFB0Z_v",
    "outputId": "984d1783-61ba-4593-ea94-b32aadb9dcb4"
   },
   "outputs": [],
   "source": [
    "# Here is how you list available styles\n",
    "\n",
    "print(plt.style.available)"
   ]
  },
  {
   "cell_type": "markdown",
   "metadata": {
    "id": "MIlML50d0Z_v"
   },
   "source": [
    "### Naming Colors\n",
    "[Reference Documentation](http://matplotlib.org/api/colors_api.html#module-matplotlib.colors) \n",
    "\n",
    "There are several ways to name individual colors.\n",
    "\n",
    "This comes in handy when manually setting colors for lines, markers, etc. or when configuring defaults/styles. "
   ]
  },
  {
   "cell_type": "markdown",
   "metadata": {
    "id": "T7M-2uGR0Z_w"
   },
   "source": [
    "#### Naming Colors by a Single Letter\n",
    "The simplest way is to use a single letter to select among some basic colors.\n",
    "\n",
    "- b: blue\n",
    "- g: green\n",
    "- r: red\n",
    "- c: cyan\n",
    "- m: magenta\n",
    "- y: yellow\n",
    "- k: black\n",
    "- w: white"
   ]
  },
  {
   "cell_type": "markdown",
   "metadata": {
    "id": "iEWF0der0Z_w"
   },
   "source": [
    "#### Popular Naming Schemes\n",
    "\n",
    "You can also use the following color naming schemes:\n",
    "- HTML/CSS HEX codes, e.g.: `\"#0000FF\"`\n",
    "- Standard HTML/CSS color names (140), e.g.: `\"midnightblue\"`, `\"olive\"`, etc. [(full list)](https://www.w3schools.com/Colors/colors_names.asp) of the 140 color names. \n",
    "- About 1000 color names from the xkcd color survey, e.g.: `\"xkcd:windowsblue\"`, `\"xkcd:firenginered\"` [(full list)](https://xkcd.com/color/rgb/)\n",
    "- Colors from the Tableau T10 pallette (also default mpl color cycle): `'tab:blue'`, `'tab:orange'` [(blog post)](https://www.tableau.com/about/blog/2016/7/colors-upgrade-tableau-10-56782)"
   ]
  },
  {
   "cell_type": "markdown",
   "metadata": {
    "id": "P19nOL3E0Z_w"
   },
   "source": [
    "#### More Color Naming Schemes\n",
    "\n",
    "- Grayscale values as float strings between `\"0.0\"` (black) and `\"1.0\"` (white).\n",
    "- Cycle reference using `\"C0\"`-`\"C9\"` to reference one of the first 10 colors in the current color cycle.\n",
    "- RGB(A) tuples: Tuples whose values indicate intensity of r, g, b components plus transparency. Note: If transparency is given in an RGBA tuple and a separate alpha argument is set, the alpha argument will take precedence."
   ]
  },
  {
   "cell_type": "markdown",
   "metadata": {
    "id": "2KO82dm-0Z_x"
   },
   "source": [
    "### Colormaps\n",
    "\n",
    "[Reference Documentation](https://matplotlib.org/stable/tutorials/colors/colormaps.html?highlight=colormap)\n",
    "\n",
    "Colormaps map ordered or continuous variables to color values.\n",
    "\n",
    "We played with colormaps when looking at scatter plots. But they also come in handy when, e.g., plotting images.\n",
    "\n",
    "There are several types: Sequential, Diverging, Qualitative, etc.\n",
    "\n",
    "Matplotlib gives you many colormaps to choose from, but you also can create your own color maps if you absolutely want to. "
   ]
  },
  {
   "cell_type": "markdown",
   "metadata": {
    "id": "wCCn-ae40Z_x"
   },
   "source": [
    "### Markers\n",
    "\n",
    "[Reference Documentation](http://matplotlib.org/api/markers_api.html)\n",
    "\n",
    "Markers are the symbols used to mark individual data points. \n",
    "\n",
    "We adjusted them when looking at `ax.plot()`.\n",
    "\n",
    "Here is a list of marker names.\n",
    "\n",
    "marker     |  description  | marker    |  description    | marker   |  description  | marker    |  description  \n",
    ":----------|:--------------|:----------|:----------------|:---------|:--------------|:----------|:--------------\n",
    "\".\"        |  point        | \"+\"       |  plus           | \",\"      |  pixel        | \"x\"       |  cross\n",
    "\"o\"        |  circle       | \"D\"       |  diamond        | \"d\"      |  thin_diamond |           |\n",
    "\"8\"        |  octagon      | \"s\"       |  square         | \"p\"      |  pentagon     | \"\\*\"      |  star\n",
    "\"&#124;\"   |  vertical line| \"\\_\"      | horizontal line |  \"h\"     |  hexagon1     | \"H\"       |  hexagon2\n",
    "0          |  tickleft     | 4         |  caretleft      | \"<\"      | triangle_left | \"3\"       |  tri_left\n",
    "1          |  tickright    | 5         |  caretright     | \">\"      | triangle_right| \"4\"       |  tri_right\n",
    "2          |  tickup       | 6         |  caretup        | \"^\"      | triangle_up   | \"2\"       |  tri_up\n",
    "3          |  tickdown     | 7         |  caretdown      | \"v\"      | triangle_down | \"1\"       |  tri_down\n",
    "\"None\"     |  nothing      | `None`    |  default        | \" \"      |  nothing      | \"\"        |  nothing"
   ]
  },
  {
   "cell_type": "markdown",
   "metadata": {
    "id": "NjLGqDsw0Z_x"
   },
   "source": [
    "### Linestyles\n",
    "\n",
    "[Reference Documentation](https://matplotlib.org/stable/api/_as_gen/matplotlib.lines.Line2D.html#matplotlib.lines.Line2D)\n",
    "\n",
    "Line styles control how lines are drawn.\n",
    "\n",
    "Below is a list of linestyle names. You can also customize your own line styles.\n",
    "\n",
    "linestyle          | description\n",
    "-------------------|------------------------------\n",
    "'-'                | solid\n",
    "'--'               | dashed\n",
    "'-.'               | dashdot\n",
    "':'                | dotted\n",
    "'None'             | draw nothing\n",
    "' '                | draw nothing\n",
    "''                 | draw nothing"
   ]
  },
  {
   "cell_type": "markdown",
   "metadata": {
    "id": "X14xHz8u0Z_y"
   },
   "source": [
    "### Ticks, Tick Lines, Tick Labels, Tickers, and Spines\n",
    "\n",
    "* A Tick is the *location* of a Tick Label.\n",
    "* A Tick Line is the line that denotes the location of the tick.\n",
    "* A Tick Label is the text that is displayed at that tick.\n",
    "* A [`Ticker`](http://matplotlib.org/api/ticker_api.html#module-matplotlib.ticker) automatically determines the ticks for an Axis and formats the tick labels.\n",
    "* Spines are the axis lines for a plot. \n",
    "\n",
    "[`tick_params()`](https://matplotlib.org/api/axes_api.html#ticks-and-tick-labels) is often used to help configure your tickers.\n",
    "\n",
    "\n",
    "To adjust spines, use [`set_position()`](http://matplotlib.org/api/spines_api.html#matplotlib.spines.Spine.set_position). "
   ]
  },
  {
   "cell_type": "code",
   "execution_count": null,
   "metadata": {
    "colab": {
     "base_uri": "https://localhost:8080/",
     "height": 275
    },
    "id": "kIuu8zDb0Z_y",
    "outputId": "78861ad2-5ef2-4dc4-e555-cf587f04222a"
   },
   "outputs": [],
   "source": [
    "fig, ax = plt.subplots()\n",
    "\n",
    "ax.set(title=\"Plot of $y = x^2$\")\n",
    "\n",
    "ax.plot([i for i in range(-9, 10)], [i ** 2 for i in range(-9, 10)])\n",
    "\n",
    "ax.spines['top'].set_color('none')\n",
    "ax.spines['right'].set_color('none')\n",
    "\n",
    "# move bottom spine up to y=0 position:\n",
    "ax.tick_params(axis='x', labelbottom=True)\n",
    "ax.spines['bottom'].set_position(('data',0))\n",
    "\n",
    "# move left spine to the right to position x == 0:\n",
    "ax.tick_params(axis='y', labelleft=True)\n",
    "ax.spines['left'].set_position(('data',0))\n",
    "\n",
    "fig.show()"
   ]
  },
  {
   "cell_type": "markdown",
   "metadata": {
    "id": "WN43GUDJ0Z_z"
   },
   "source": [
    "## More Advanced Plotting: Grouping, Multiple Subplots & Faceting\n",
    "\n",
    "Finally, we can preview some more advanced plotting techniques.\n",
    "\n",
    "These techniques serve to organize information and combat overplotting.\n"
   ]
  },
  {
   "cell_type": "markdown",
   "metadata": {
    "id": "gGC0uAJL0Z_z"
   },
   "source": [
    "### Grouping\n",
    "\n",
    "Grouping is one technique used to facilitate comparing data from different groups.\n",
    "\n",
    "We saw an example of grouping when looking at `ax.plot()`.\n",
    "\n",
    "To plot data by group, we simply plot each group to the same axis.\n",
    "\n",
    "Here is a scatterplot example."
   ]
  },
  {
   "cell_type": "code",
   "execution_count": null,
   "metadata": {
    "colab": {
     "base_uri": "https://localhost:8080/",
     "height": 538
    },
    "id": "5WgHcxfK0Z_z",
    "outputId": "1f4ac922-5a68-4cb4-f9e2-89dbd3a97432"
   },
   "outputs": [],
   "source": [
    "# Setup\n",
    "\n",
    "data = df.sort_values([\"id\", \"year\"])\n",
    "data[\"percent_votes_lag\"] = data.groupby(\"id\").percent_votes.shift()\n",
    "\n",
    "data = data[[\"elected\", \"percent_votes_lag\", \"percent_votes\"]].dropna()\n",
    "print(data)"
   ]
  },
  {
   "cell_type": "code",
   "execution_count": null,
   "metadata": {
    "colab": {
     "base_uri": "https://localhost:8080/",
     "height": 538
    },
    "id": "5WgHcxfK0Z_z",
    "outputId": "1f4ac922-5a68-4cb4-f9e2-89dbd3a97432"
   },
   "outputs": [],
   "source": [
    "# Plot\n",
    "\n",
    "fig, ax = plt.subplots(1)\n",
    "\n",
    "ax.set(\n",
    "    title=\"Relation Between Previous and Current Vote Share\",\n",
    "    xlabel=\"Previous Vote Share (%)\",\n",
    "    ylabel=\"Current Vote Share (%)\")\n",
    "\n",
    "for name, _data in data.groupby(\"elected\"):\n",
    "    ax.scatter(\n",
    "        x=\"percent_votes_lag\", \n",
    "        y=\"percent_votes\",\n",
    "        s=2,\n",
    "        alpha=.3,\n",
    "        data=_data,\n",
    "        label=name)\n",
    "\n",
    "ax.legend()\n",
    "\n",
    "fig.show()"
   ]
  },
  {
   "cell_type": "markdown",
   "metadata": {
    "id": "QjGteIJv0Z_0"
   },
   "source": [
    "#### Exercise 9\n",
    "\n",
    "Can you group the data above by gender?\n",
    "\n",
    "What do you think about the resulting graph?"
   ]
  },
  {
   "cell_type": "code",
   "execution_count": null,
   "metadata": {
    "colab": {
     "base_uri": "https://localhost:8080/",
     "height": 538
    },
    "id": "PMmD9yTO0Z_0",
    "outputId": "2a0c686c-6daa-48f1-9cd5-2d06dd5df5e0"
   },
   "outputs": [],
   "source": [
    "# Setup\n",
    "\n",
    "data = df.sort_values([\"id\", \"year\"])\n",
    "data[\"percent_votes_lag\"] = data.groupby(\"id\").percent_votes.shift()\n",
    "\n",
    "data = data[[\"gender\", \"percent_votes_lag\", \"percent_votes\"]].dropna()\n",
    "print(data)"
   ]
  },
  {
   "cell_type": "code",
   "execution_count": null,
   "metadata": {
    "colab": {
     "base_uri": "https://localhost:8080/",
     "height": 538
    },
    "id": "PMmD9yTO0Z_0",
    "outputId": "2a0c686c-6daa-48f1-9cd5-2d06dd5df5e0"
   },
   "outputs": [],
   "source": [
    "# Your code goes here\n"
   ]
  },
  {
   "cell_type": "markdown",
   "metadata": {
    "id": "FY2_0XVV0Z_0"
   },
   "source": [
    "#### Grouped Bar Chart\n",
    "\n",
    "In experimental settings, people like to show bar charts grouped by conditions. \n",
    "\n",
    "This is a little bit more involved to do."
   ]
  },
  {
   "cell_type": "code",
   "execution_count": null,
   "metadata": {
    "colab": {
     "base_uri": "https://localhost:8080/",
     "height": 696
    },
    "id": "nuskOGmI0Z_1",
    "outputId": "1c529fa4-1000-4db3-ff46-d6c54e0bad77"
   },
   "outputs": [],
   "source": [
    "# Setup\n",
    "\n",
    "gs = df.groupby([\"elected\", \"censuscategory\"]).percent_votes\n",
    "data = (\n",
    "    pd.concat(\n",
    "        [gs.mean().rename(\"pct_votes_mean\"), gs.sem().rename(\"pct_votes_sem\")],\n",
    "        axis=1)\n",
    "    .reset_index())\n",
    "print(data)"
   ]
  },
  {
   "cell_type": "code",
   "execution_count": null,
   "metadata": {
    "colab": {
     "base_uri": "https://localhost:8080/",
     "height": 696
    },
    "id": "nuskOGmI0Z_1",
    "outputId": "1c529fa4-1000-4db3-ff46-d6c54e0bad77"
   },
   "outputs": [],
   "source": [
    "# Graph\n",
    "\n",
    "x = pd.Series([i for i in range(len(data.censuscategory.cat.categories))])\n",
    "width = .35  # the width of the bars\n",
    "\n",
    "fig, ax = plt.subplots()\n",
    "\n",
    "rects1 = ax.bar(\n",
    "    x - width/2, \n",
    "    data[data.elected == \"Elected\"].pct_votes_mean, \n",
    "    width, \n",
    "    yerr=data[data.elected == \"Elected\"].pct_votes_sem,\n",
    "    capsize=2,\n",
    "    label='Elected')\n",
    "\n",
    "rects2 = ax.bar(\n",
    "    x + width/2, \n",
    "    data[data.elected == \"Not elected\"].pct_votes_mean,\n",
    "    width, \n",
    "    yerr=data[data.elected == \"Not elected\"].pct_votes_sem,\n",
    "    capsize=2,\n",
    "    label='Not elected')\n",
    "\n",
    "ax.set(\n",
    "    title=\"Vote Share by Occupation and Incumbency\",\n",
    "    ylabel=\"Vote Share (%)\",\n",
    "    xticks=x,\n",
    "    xticklabels=data.censuscategory.cat.categories)\n",
    "\n",
    "ax.tick_params(axis=\"x\", labelrotation = 90)\n",
    "\n",
    "ax.legend()\n",
    "\n",
    "fig.tight_layout()\n",
    "\n",
    "plt.show()"
   ]
  },
  {
   "cell_type": "markdown",
   "metadata": {
    "id": "pZAmxMSv0Z_1"
   },
   "source": [
    "### Multiple Subplots & Faceting\n",
    "\n",
    "Often, we want to have multiple subplots in the same figure. \n",
    "\n",
    "Sometimes, this is done to provide additional information.\n",
    "\n",
    "But, often, it is done to prevent overplotting. This is called faceting.\n",
    "\n",
    "Consider the scatterplot by gender that we created previously.\n",
    "\n",
    "Let's split each view into multiple subplots."
   ]
  },
  {
   "cell_type": "code",
   "execution_count": null,
   "metadata": {
    "colab": {
     "base_uri": "https://localhost:8080/",
     "height": 551
    },
    "id": "YlU2OzfU0Z_1",
    "outputId": "a1743bc6-4d14-44c5-d697-03d7bc312f1a"
   },
   "outputs": [],
   "source": [
    "# Setup\n",
    "\n",
    "data = df.sort_values([\"id\", \"year\"])\n",
    "data[\"percent_votes_lag\"] = data.groupby(\"id\").percent_votes.shift()\n",
    "\n",
    "data = data[[\"gender\", \"percent_votes_lag\", \"percent_votes\"]].dropna()\n",
    "print(data)"
   ]
  },
  {
   "cell_type": "code",
   "execution_count": null,
   "metadata": {
    "colab": {
     "base_uri": "https://localhost:8080/",
     "height": 551
    },
    "id": "YlU2OzfU0Z_1",
    "outputId": "a1743bc6-4d14-44c5-d697-03d7bc312f1a"
   },
   "outputs": [],
   "source": [
    "# Plot\n",
    "\n",
    "fig, axs = plt.subplots(ncols=3, sharex=True, sharey=True)\n",
    "\n",
    "\n",
    "for ax, (name, _data) in zip(axs, data.groupby(\"gender\")):\n",
    "    ax.set(title=name)\n",
    "    ax.scatter(\n",
    "        x=\"percent_votes_lag\", \n",
    "        y=\"percent_votes\",\n",
    "        s=2,\n",
    "        alpha=.3,\n",
    "        data=_data)\n",
    "\n",
    "axs[0].set(ylabel=\"Current Vote Share (%)\")\n",
    "axs[1].set(xlabel=\"Previous Vote Share (%)\")\n",
    "\n",
    "fig.suptitle(\"Past and Current Vote Share by Gender\")\n",
    "    \n",
    "fig.show()"
   ]
  },
  {
   "cell_type": "markdown",
   "metadata": {
    "id": "b7LlfHCc0Z_2"
   },
   "source": [
    "#### Exercise 10\n",
    "\n",
    "Try faceting a plot of current vote share against previous vote share by incumbency (i.e., elected).\n",
    "\n",
    "What do you think of the resulting plot? Is faceting more appropriate or grouping?"
   ]
  },
  {
   "cell_type": "code",
   "execution_count": null,
   "metadata": {},
   "outputs": [],
   "source": [
    "data = df.sort_values([\"id\", \"year\"])\n",
    "data[\"percent_votes_lag\"] = data.groupby(\"id\").percent_votes.shift()\n",
    "\n",
    "data = data[[\"elected\", \"percent_votes_lag\", \"percent_votes\"]].dropna()\n",
    "print(data)"
   ]
  },
  {
   "cell_type": "code",
   "execution_count": null,
   "metadata": {},
   "outputs": [],
   "source": [
    "# Your code goes here\n"
   ]
  },
  {
   "cell_type": "markdown",
   "metadata": {
    "id": "AJ1E4tES0Z_2"
   },
   "source": [
    "## Conclusion\n",
    "\n",
    "This is the end of our whirlwind tour of data visualization in Python using `matplotib`. \n",
    "\n",
    "I'll leave you with some pointers for further exploration.\n",
    "\n",
    "### Advanced matplotlib\n",
    "\n",
    "- Customizing subplot layouts\n",
    "- Controling scaling (log, semilog, etc.)\n",
    "- Plotting images, quivers, and 3D data\n",
    "- Creating animations\n",
    "\n",
    "### Other Plotting Tools Using Matplotlib\n",
    "\n",
    "- Seaborn, providing more convenient APIs for typical data science plotting (e.g. grouping)\n",
    "- plotnine, grammar of graphics in Python, uses matplotlib as backend"
   ]
  },
  {
   "cell_type": "markdown",
   "metadata": {
    "id": "AJ1E4tES0Z_2"
   },
   "source": [
    "### Epilogue\n",
    "\n",
    "Remeber to close your figures!"
   ]
  },
  {
   "cell_type": "code",
   "execution_count": null,
   "metadata": {},
   "outputs": [],
   "source": [
    "plt.close(\"all\")"
   ]
  }
 ],
 "metadata": {
  "celltoolbar": "Slideshow",
  "colab": {
   "collapsed_sections": [
    "PFUmW8O_0Z_l",
    "DMvGKWGE0Z_o",
    "QbFJPUcc0Z_q",
    "kI_eTcBQ0Z_s",
    "k0NYUdkC0Z_u",
    "T7M-2uGR0Z_w",
    "iEWF0der0Z_w",
    "P19nOL3E0Z_w",
    "2KO82dm-0Z_x",
    "wCCn-ae40Z_x",
    "NjLGqDsw0Z_x",
    "QjGteIJv0Z_0",
    "b7LlfHCc0Z_2"
   ],
   "name": "DVwPython.ipynb",
   "provenance": []
  },
  "interpreter": {
   "hash": "5dcc4f0ae8e8359f7cc3ec45b6caa537c980bccc672364645f55033b161f1176"
  },
  "kernelspec": {
   "display_name": "Python 3",
   "language": "python",
   "name": "python3"
  },
  "language_info": {
   "codemirror_mode": {
    "name": "ipython",
    "version": 3
   },
   "file_extension": ".py",
   "mimetype": "text/x-python",
   "name": "python",
   "nbconvert_exporter": "python",
   "pygments_lexer": "ipython3",
   "version": "3.6.9"
  }
 },
 "nbformat": 4,
 "nbformat_minor": 1
}
